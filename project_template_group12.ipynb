{
 "cells": [
  {
   "cell_type": "markdown",
   "metadata": {},
   "source": [
    "# Project Group 12\n",
    "\n",
    "Members (student numbers): Laurens Westerhuis (5646014), Fyodor Onck(4888383), Callum Davis (5236460), and Sasha Leemans (5408946)\n"
   ]
  },
  {
   "cell_type": "markdown",
   "metadata": {},
   "source": [
    "# Research Objective\n",
    "\n",
    "*Requires data modeling and quantitative research in Transport, Infrastructure & Logistics*"
   ]
  },
  {
   "cell_type": "markdown",
   "metadata": {},
   "source": [
    "The objective of this study is to analyse the correlation between fluctuations in air traffic movements from Dutch airports, consumer spending and overall economic conditions in the Netherlands by comparing CBS open data sets.\n",
    "\n",
    "Research question: How do monthly air traffic patterns at Dutch airports relate to various economic indicators, such as household consumption and GDP."
   ]
  },
  {
   "cell_type": "markdown",
   "metadata": {},
   "source": [
    "# Contribution Statement\n",
    "\n",
    "*Be specific. Some of the tasks can be coding (expect everyone to do this), background research, conceptualisation, visualisation, data analysis, data modelling*"
   ]
  },
  {
   "cell_type": "markdown",
   "metadata": {},
   "source": [
    "**Author 1**:\n",
    "\n",
    "**Author 2**:\n",
    "\n",
    "**Author 3**:"
   ]
  },
  {
   "cell_type": "markdown",
   "metadata": {},
   "source": [
    "# Data Used"
   ]
  },
  {
   "cell_type": "markdown",
   "metadata": {},
   "source": [
    "Dataset A - Aviation; monthly figures of Dutch airports, derived from https://opendata.cbs.nl/statline/#/CBS/en/dataset/37478eng/table?ts=1696411247960\n",
    "Dataset B - Consumption expenditure of households; National accounts, derived from \n",
    "https://opendata.cbs.nl/statline/#/CBS/en/dataset/82608ENG/table?ts=1696412438933\n",
    "Dataset C - Spending; consumption household, 1995-2019, derived from https://opendata.cbs.nl/statline/#/CBS/en/dataset/70076eng/table?ts=1696412464438\n",
    "Dataset D - Approaches of domestic product (GDP); National Accounts, derived from\n",
    "https://opendata.cbs.nl/statline/#/CBS/en/dataset/84087ENG/table?ts=1696415164763"
   ]
  },
  {
   "cell_type": "markdown",
   "metadata": {},
   "source": [
    "# Data Pipeline"
   ]
  },
  {
   "cell_type": "markdown",
   "metadata": {},
   "source": [
    "To look at the correlation between fluctuations in air traffic movements from Dutch airports and consumer spending, a correlation between datasets A, B, and C is tested. The variety of columns variables used in dataset A (cross country, local flights, amount of passengers and cargo) can be correlated to dataset B, C and D where the consumption expenditure of households is calculated by its different factors like domestic consumption, consumption of services by households, and consumption of goods. As all provided data sets work with a continuous scale based per quarter of a year , correlations can be tested and be visualised with graphs. \n",
    "\n",
    "The data will first be imported and cleaned. During the processing of the data, peaks and trends will be analyzed after which correlations between the datasets will be visualised. "
   ]
  },
  {
   "cell_type": "code",
   "execution_count": 2,
   "metadata": {},
   "outputs": [],
   "source": [
    "import pandas as pd"
   ]
  },
  {
   "cell_type": "code",
   "execution_count": 4,
   "metadata": {},
   "outputs": [
    {
     "data": {
      "text/html": [
       "<div>\n",
       "<style scoped>\n",
       "    .dataframe tbody tr th:only-of-type {\n",
       "        vertical-align: middle;\n",
       "    }\n",
       "\n",
       "    .dataframe tbody tr th {\n",
       "        vertical-align: top;\n",
       "    }\n",
       "\n",
       "    .dataframe thead th {\n",
       "        text-align: right;\n",
       "    }\n",
       "</style>\n",
       "<table border=\"1\" class=\"dataframe\">\n",
       "  <thead>\n",
       "    <tr style=\"text-align: right;\">\n",
       "      <th></th>\n",
       "      <th>Unnamed: 0</th>\n",
       "      <th>Unnamed: 1</th>\n",
       "      <th>Aircraft movements|Cross-country flights</th>\n",
       "      <th>Aircraft movements|Local flights</th>\n",
       "      <th>Commercial air traffic|Flights|All flights|Total flights</th>\n",
       "      <th>Commercial air traffic|Flights|All flights|Scheduled</th>\n",
       "      <th>Commercial air traffic|Passengers|Total passengers|Total passengers</th>\n",
       "      <th>Commercial air traffic|Cargo|Total cargo|Total cargo</th>\n",
       "      <th>Commercial air traffic|Mail|Total mail|Total mail</th>\n",
       "    </tr>\n",
       "  </thead>\n",
       "  <tbody>\n",
       "    <tr>\n",
       "      <th>0</th>\n",
       "      <td>Airports</td>\n",
       "      <td>Periods</td>\n",
       "      <td>number</td>\n",
       "      <td>number</td>\n",
       "      <td>number</td>\n",
       "      <td>number</td>\n",
       "      <td>number</td>\n",
       "      <td>ton</td>\n",
       "      <td>ton</td>\n",
       "    </tr>\n",
       "    <tr>\n",
       "      <th>1</th>\n",
       "      <td>Total Dutch airports</td>\n",
       "      <td>2019</td>\n",
       "      <td>603633</td>\n",
       "      <td>51939</td>\n",
       "      <td>566031</td>\n",
       "      <td>552061</td>\n",
       "      <td>81167,301</td>\n",
       "      <td>1681,703</td>\n",
       "      <td>21959</td>\n",
       "    </tr>\n",
       "    <tr>\n",
       "      <th>2</th>\n",
       "      <td>Total Dutch airports</td>\n",
       "      <td>2020</td>\n",
       "      <td>288182</td>\n",
       "      <td>61655</td>\n",
       "      <td>258226</td>\n",
       "      <td>248730</td>\n",
       "      <td>23585,744</td>\n",
       "      <td>1577,582</td>\n",
       "      <td>14831</td>\n",
       "    </tr>\n",
       "    <tr>\n",
       "      <th>3</th>\n",
       "      <td>Total Dutch airports</td>\n",
       "      <td>2021 1st quarter</td>\n",
       "      <td>46250</td>\n",
       "      <td>14508</td>\n",
       "      <td>40663</td>\n",
       "      <td>38151</td>\n",
       "      <td>2106,091</td>\n",
       "      <td>443523</td>\n",
       "      <td>3891</td>\n",
       "    </tr>\n",
       "    <tr>\n",
       "      <th>4</th>\n",
       "      <td>Total Dutch airports</td>\n",
       "      <td>2021 2nd quarter</td>\n",
       "      <td>63740</td>\n",
       "      <td>26902</td>\n",
       "      <td>53579</td>\n",
       "      <td>51214</td>\n",
       "      <td>3857,879</td>\n",
       "      <td>455910</td>\n",
       "      <td>3608</td>\n",
       "    </tr>\n",
       "  </tbody>\n",
       "</table>\n",
       "</div>"
      ],
      "text/plain": [
       "             Unnamed: 0        Unnamed: 1  \\\n",
       "0              Airports           Periods   \n",
       "1  Total Dutch airports              2019   \n",
       "2  Total Dutch airports              2020   \n",
       "3  Total Dutch airports  2021 1st quarter   \n",
       "4  Total Dutch airports  2021 2nd quarter   \n",
       "\n",
       "  Aircraft movements|Cross-country flights Aircraft movements|Local flights  \\\n",
       "0                                   number                           number   \n",
       "1                                   603633                            51939   \n",
       "2                                   288182                            61655   \n",
       "3                                    46250                            14508   \n",
       "4                                    63740                            26902   \n",
       "\n",
       "  Commercial air traffic|Flights|All flights|Total flights  \\\n",
       "0                                             number         \n",
       "1                                             566031         \n",
       "2                                             258226         \n",
       "3                                              40663         \n",
       "4                                              53579         \n",
       "\n",
       "  Commercial air traffic|Flights|All flights|Scheduled  \\\n",
       "0                                             number     \n",
       "1                                             552061     \n",
       "2                                             248730     \n",
       "3                                              38151     \n",
       "4                                              51214     \n",
       "\n",
       "  Commercial air traffic|Passengers|Total passengers|Total passengers  \\\n",
       "0                                             number                    \n",
       "1                                          81167,301                    \n",
       "2                                          23585,744                    \n",
       "3                                           2106,091                    \n",
       "4                                           3857,879                    \n",
       "\n",
       "  Commercial air traffic|Cargo|Total cargo|Total cargo  \\\n",
       "0                                                ton     \n",
       "1                                           1681,703     \n",
       "2                                           1577,582     \n",
       "3                                             443523     \n",
       "4                                             455910     \n",
       "\n",
       "  Commercial air traffic|Mail|Total mail|Total mail  \n",
       "0                                               ton  \n",
       "1                                             21959  \n",
       "2                                             14831  \n",
       "3                                              3891  \n",
       "4                                              3608  "
      ]
     },
     "execution_count": 4,
     "metadata": {},
     "output_type": "execute_result"
    }
   ],
   "source": [
    "df = pd.read_csv('Aviation__monthly_figures_of_Dutch_airports_09102023_105256.csv', delimiter=';')\n",
    "df.dropna()\n",
    "df.head()"
   ]
  },
  {
   "cell_type": "code",
   "execution_count": null,
   "metadata": {},
   "outputs": [],
   "source": []
  }
 ],
 "metadata": {
  "kernelspec": {
   "display_name": "Python 3 (ipykernel)",
   "language": "python",
   "name": "python3"
  },
  "language_info": {
   "codemirror_mode": {
    "name": "ipython",
    "version": 3
   },
   "file_extension": ".py",
   "mimetype": "text/x-python",
   "name": "python",
   "nbconvert_exporter": "python",
   "pygments_lexer": "ipython3",
   "version": "3.11.4"
  },
  "vscode": {
   "interpreter": {
    "hash": "31f2aee4e71d21fbe5cf8b01ff0e069b9275f58929596ceb00d14d90e3e16cd6"
   }
  }
 },
 "nbformat": 4,
 "nbformat_minor": 4
}
