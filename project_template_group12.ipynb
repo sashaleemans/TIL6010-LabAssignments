{
 "cells": [
  {
   "cell_type": "markdown",
   "metadata": {},
   "source": [
    "# Project Group 12\n",
    "\n",
    "Members (student numbers): Laurens Westerhuis (5646014), Fyodor Onck(4888383), Callum Davis (5236460), and Sasha Leemans (5408946)\n"
   ]
  },
  {
   "cell_type": "markdown",
   "metadata": {},
   "source": [
    "# Research Objective\n",
    "\n",
    "*Requires data modeling and quantitative research in Transport, Infrastructure & Logistics*"
   ]
  },
  {
   "cell_type": "markdown",
   "metadata": {},
   "source": [
    "The objective of this study is to analyse the correlation between fluctuations in air traffic movements from Dutch airports, consumer spending and overall economic conditions in the Netherlands by comparing CBS open data sets.\n",
    "\n",
    "Research question: How do monthly air traffic patterns at Dutch airports relate to various economic indicators, such as household consumption and GDP."
   ]
  },
  {
   "cell_type": "markdown",
   "metadata": {},
   "source": [
    "# Contribution Statement\n",
    "\n",
    "*Be specific. Some of the tasks can be coding (expect everyone to do this), background research, conceptualisation, visualisation, data analysis, data modelling*"
   ]
  },
  {
   "cell_type": "markdown",
   "metadata": {},
   "source": [
    "**Author 1**:\n",
    "\n",
    "**Author 2**:\n",
    "\n",
    "**Author 3**:"
   ]
  },
  {
   "cell_type": "markdown",
   "metadata": {},
   "source": [
    "# Data Used"
   ]
  },
  {
   "cell_type": "markdown",
   "metadata": {},
   "source": [
    "Dataset A - Aviation; monthly figures of Dutch airports, derived from https://opendata.cbs.nl/statline/#/CBS/en/dataset/37478eng/table?ts=1696411247960\n",
    "Dataset B - Consumption expenditure of households; National accounts, derived from \n",
    "https://opendata.cbs.nl/statline/#/CBS/en/dataset/82608ENG/table?ts=1696412438933\n",
    "Dataset C - Spending; consumption household, 1995-2019, derived from https://opendata.cbs.nl/statline/#/CBS/en/dataset/70076eng/table?ts=1696412464438\n",
    "Dataset D - Approaches of domestic product (GDP); National Accounts, derived from\n",
    "https://opendata.cbs.nl/statline/#/CBS/en/dataset/84087ENG/table?ts=1696415164763"
   ]
  },
  {
   "cell_type": "markdown",
   "metadata": {},
   "source": [
    "# Data Pipeline"
   ]
  },
  {
   "cell_type": "markdown",
   "metadata": {},
   "source": [
    "To look at the correlation between fluctuations in air traffic movements from Dutch airports and consumer spending, a correlation between datasets A, B, and C is tested. The variety of columns variables used in dataset A (cross country, local flights, amount of passengers and cargo) can be correlated to dataset B, C and D where the consumption expenditure of households is calculated by its different factors like domestic consumption, consumption of services by households, and consumption of goods. As all provided data sets work with a continuous scale based per quarter of a year , correlations can be tested and be visualised with graphs. \n",
    "\n",
    "The data will first be imported and cleaned. During the processing of the data, peaks and trends will be analyzed after which correlations between the datasets will be visualised. "
   ]
  }
 ],
 "metadata": {
  "kernelspec": {
   "display_name": "Python 3 (ipykernel)",
   "language": "python",
   "name": "python3"
  },
  "language_info": {
   "codemirror_mode": {
    "name": "ipython",
    "version": 3
   },
   "file_extension": ".py",
   "mimetype": "text/x-python",
   "name": "python",
   "nbconvert_exporter": "python",
   "pygments_lexer": "ipython3",
   "version": "3.11.4"
  },
  "vscode": {
   "interpreter": {
    "hash": "31f2aee4e71d21fbe5cf8b01ff0e069b9275f58929596ceb00d14d90e3e16cd6"
   }
  }
 },
 "nbformat": 4,
 "nbformat_minor": 2
}
