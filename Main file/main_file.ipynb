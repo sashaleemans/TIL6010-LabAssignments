{
 "cells": [
  {
   "cell_type": "code",
   "execution_count": 53,
   "id": "7708a58e-ca00-4dff-a1d1-1fb9738a15a6",
   "metadata": {},
   "outputs": [],
   "source": [
    "import numpy as np\n",
    "import matplotlib.pyplot as plt\n",
    "import pandas as pd\n",
    "import plotly.express as px\n",
    "from plotly.subplots import make_subplots\n",
    "import plotly.graph_objects as go\n",
    "from scipy.signal import find_peaks\n",
    "import seaborn as sns"
   ]
  },
  {
   "cell_type": "markdown",
   "id": "8ac2440b-e937-4949-b89b-334abba0496b",
   "metadata": {},
   "source": [
    "### Part 1 - Data import"
   ]
  },
  {
   "cell_type": "markdown",
   "id": "192b814d-02d3-4161-acf0-c3122596053c",
   "metadata": {},
   "source": [
    "First, the data of monthly and yearly aviation figures will be imported. As we will only examine passenger figures, cargo figures are removed from the dataframes."
   ]
  },
  {
   "cell_type": "code",
   "execution_count": 80,
   "id": "428ba3e8-edd6-4088-bc36-a197e74ccc8d",
   "metadata": {},
   "outputs": [
    {
     "data": {
      "text/html": [
       "<div>\n",
       "<style scoped>\n",
       "    .dataframe tbody tr th:only-of-type {\n",
       "        vertical-align: middle;\n",
       "    }\n",
       "\n",
       "    .dataframe tbody tr th {\n",
       "        vertical-align: top;\n",
       "    }\n",
       "\n",
       "    .dataframe thead th {\n",
       "        text-align: right;\n",
       "    }\n",
       "</style>\n",
       "<table border=\"1\" class=\"dataframe\">\n",
       "  <thead>\n",
       "    <tr style=\"text-align: right;\">\n",
       "      <th></th>\n",
       "      <th>Airports</th>\n",
       "      <th>Periods</th>\n",
       "      <th>Aircraft movements/Cross-country flights (number)</th>\n",
       "      <th>Aircraft movements/Local flights (number)</th>\n",
       "      <th>Commercial air traffic/Flights/All flights/Total flights (number)</th>\n",
       "      <th>Commercial air traffic/Flights/All flights/Scheduled (number)</th>\n",
       "      <th>Commercial air traffic/Passengers/Total passengers/Total passengers (number)</th>\n",
       "    </tr>\n",
       "  </thead>\n",
       "  <tbody>\n",
       "    <tr>\n",
       "      <th>0</th>\n",
       "      <td>Total Dutch airports</td>\n",
       "      <td>1999-01-01</td>\n",
       "      <td>36810</td>\n",
       "      <td>14868</td>\n",
       "      <td>33145</td>\n",
       "      <td>31222.0</td>\n",
       "      <td>2439980</td>\n",
       "    </tr>\n",
       "    <tr>\n",
       "      <th>1</th>\n",
       "      <td>Total Dutch airports</td>\n",
       "      <td>1999-02-01</td>\n",
       "      <td>34356</td>\n",
       "      <td>11314</td>\n",
       "      <td>30912</td>\n",
       "      <td>29015.0</td>\n",
       "      <td>2405830</td>\n",
       "    </tr>\n",
       "    <tr>\n",
       "      <th>2</th>\n",
       "      <td>Total Dutch airports</td>\n",
       "      <td>1999-03-01</td>\n",
       "      <td>41290</td>\n",
       "      <td>18152</td>\n",
       "      <td>35591</td>\n",
       "      <td>33278.0</td>\n",
       "      <td>2905023</td>\n",
       "    </tr>\n",
       "    <tr>\n",
       "      <th>3</th>\n",
       "      <td>Total Dutch airports</td>\n",
       "      <td>1999-04-01</td>\n",
       "      <td>41338</td>\n",
       "      <td>18043</td>\n",
       "      <td>35832</td>\n",
       "      <td>33114.0</td>\n",
       "      <td>2983754</td>\n",
       "    </tr>\n",
       "    <tr>\n",
       "      <th>4</th>\n",
       "      <td>Total Dutch airports</td>\n",
       "      <td>1999-05-01</td>\n",
       "      <td>44679</td>\n",
       "      <td>18932</td>\n",
       "      <td>38376</td>\n",
       "      <td>34138.0</td>\n",
       "      <td>3399339</td>\n",
       "    </tr>\n",
       "  </tbody>\n",
       "</table>\n",
       "</div>"
      ],
      "text/plain": [
       "               Airports    Periods  \\\n",
       "0  Total Dutch airports 1999-01-01   \n",
       "1  Total Dutch airports 1999-02-01   \n",
       "2  Total Dutch airports 1999-03-01   \n",
       "3  Total Dutch airports 1999-04-01   \n",
       "4  Total Dutch airports 1999-05-01   \n",
       "\n",
       "   Aircraft movements/Cross-country flights (number)  \\\n",
       "0                                              36810   \n",
       "1                                              34356   \n",
       "2                                              41290   \n",
       "3                                              41338   \n",
       "4                                              44679   \n",
       "\n",
       "   Aircraft movements/Local flights (number)  \\\n",
       "0                                      14868   \n",
       "1                                      11314   \n",
       "2                                      18152   \n",
       "3                                      18043   \n",
       "4                                      18932   \n",
       "\n",
       "   Commercial air traffic/Flights/All flights/Total flights (number)  \\\n",
       "0                                              33145                   \n",
       "1                                              30912                   \n",
       "2                                              35591                   \n",
       "3                                              35832                   \n",
       "4                                              38376                   \n",
       "\n",
       "   Commercial air traffic/Flights/All flights/Scheduled (number)  \\\n",
       "0                                            31222.0               \n",
       "1                                            29015.0               \n",
       "2                                            33278.0               \n",
       "3                                            33114.0               \n",
       "4                                            34138.0               \n",
       "\n",
       "   Commercial air traffic/Passengers/Total passengers/Total passengers (number)  \n",
       "0                                            2439980                             \n",
       "1                                            2405830                             \n",
       "2                                            2905023                             \n",
       "3                                            2983754                             \n",
       "4                                            3399339                             "
      ]
     },
     "execution_count": 80,
     "metadata": {},
     "output_type": "execute_result"
    }
   ],
   "source": [
    "flight_data = pd.read_csv('Monthly_figures_on_aviation_11102023_111803.csv', delimiter = ';')\n",
    "flight_data_year = pd.read_csv('Monthly_figures_on_aviation_11102023_103331.csv', delimiter = ';')\n",
    "\n",
    "#Dropping irrelevant columns\n",
    "flight_data.drop(columns=['Commercial air traffic/Cargo/Total cargo/Total cargo (ton)', 'Commercial air traffic/Mail/Total mail/Total mail (ton)'], inplace=True)\n",
    "flight_data_year.drop(columns=['Commercial air traffic/Cargo/Total cargo/Total cargo (ton)', 'Commercial air traffic/Mail/Total mail/Total mail (ton)'], inplace=True)\n",
    "\n",
    "flight_data['Periods'] = pd.to_datetime(flight_data['Periods'], format='%Y %B', errors='coerce')\n",
    "flight_data_year['Periods'] = pd.to_datetime(flight_data_year['Periods'], format='%Y', errors='coerce')\n",
    "\n",
    "flight_data.head()"
   ]
  },
  {
   "cell_type": "code",
   "execution_count": 81,
   "id": "a74bd103-533b-46c3-9433-b8d8bf21797e",
   "metadata": {},
   "outputs": [
    {
     "data": {
      "text/html": [
       "<div>\n",
       "<style scoped>\n",
       "    .dataframe tbody tr th:only-of-type {\n",
       "        vertical-align: middle;\n",
       "    }\n",
       "\n",
       "    .dataframe tbody tr th {\n",
       "        vertical-align: top;\n",
       "    }\n",
       "\n",
       "    .dataframe thead th {\n",
       "        text-align: right;\n",
       "    }\n",
       "</style>\n",
       "<table border=\"1\" class=\"dataframe\">\n",
       "  <thead>\n",
       "    <tr style=\"text-align: right;\">\n",
       "      <th></th>\n",
       "      <th>Household characteristics</th>\n",
       "      <th>Components of wealth</th>\n",
       "      <th>Periods</th>\n",
       "      <th>Number of private households  (x 1 000)</th>\n",
       "      <th>Total wealth (bn euros)</th>\n",
       "      <th>Mean wealth (1 000 euros)</th>\n",
       "      <th>Median wealth (1 000 euros)</th>\n",
       "    </tr>\n",
       "  </thead>\n",
       "  <tbody>\n",
       "    <tr>\n",
       "      <th>0</th>\n",
       "      <td>Private households</td>\n",
       "      <td>Wealth</td>\n",
       "      <td>2006</td>\n",
       "      <td>7024,5</td>\n",
       "      <td>1146,4</td>\n",
       "      <td>163.2</td>\n",
       "      <td>33,1</td>\n",
       "    </tr>\n",
       "    <tr>\n",
       "      <th>1</th>\n",
       "      <td>Private households</td>\n",
       "      <td>Wealth</td>\n",
       "      <td>2007</td>\n",
       "      <td>7081,5</td>\n",
       "      <td>1222,9</td>\n",
       "      <td>172.7</td>\n",
       "      <td>40,3</td>\n",
       "    </tr>\n",
       "    <tr>\n",
       "      <th>2</th>\n",
       "      <td>Private households</td>\n",
       "      <td>Wealth</td>\n",
       "      <td>2008</td>\n",
       "      <td>7146</td>\n",
       "      <td>1309,3</td>\n",
       "      <td>183.2</td>\n",
       "      <td>44,6</td>\n",
       "    </tr>\n",
       "    <tr>\n",
       "      <th>3</th>\n",
       "      <td>Private households</td>\n",
       "      <td>Wealth</td>\n",
       "      <td>2009</td>\n",
       "      <td>7214,8</td>\n",
       "      <td>1274,9</td>\n",
       "      <td>176.7</td>\n",
       "      <td>40,1</td>\n",
       "    </tr>\n",
       "    <tr>\n",
       "      <th>4</th>\n",
       "      <td>Private households</td>\n",
       "      <td>Wealth</td>\n",
       "      <td>2010</td>\n",
       "      <td>7281,3</td>\n",
       "      <td>1253</td>\n",
       "      <td>172.1</td>\n",
       "      <td>32,7</td>\n",
       "    </tr>\n",
       "    <tr>\n",
       "      <th>5</th>\n",
       "      <td>Private households</td>\n",
       "      <td>Wealth</td>\n",
       "      <td>2011</td>\n",
       "      <td>7347,6</td>\n",
       "      <td>1240,3</td>\n",
       "      <td>168.8</td>\n",
       "      <td>31,8</td>\n",
       "    </tr>\n",
       "    <tr>\n",
       "      <th>6</th>\n",
       "      <td>Private households</td>\n",
       "      <td>Wealth</td>\n",
       "      <td>2012</td>\n",
       "      <td>7412,1</td>\n",
       "      <td>1174,6</td>\n",
       "      <td>158.5</td>\n",
       "      <td>25,1</td>\n",
       "    </tr>\n",
       "    <tr>\n",
       "      <th>7</th>\n",
       "      <td>Private households</td>\n",
       "      <td>Wealth</td>\n",
       "      <td>2013</td>\n",
       "      <td>7467,8</td>\n",
       "      <td>1123</td>\n",
       "      <td>150.4</td>\n",
       "      <td>17,2</td>\n",
       "    </tr>\n",
       "    <tr>\n",
       "      <th>8</th>\n",
       "      <td>Private households</td>\n",
       "      <td>Wealth</td>\n",
       "      <td>2014</td>\n",
       "      <td>7496,4</td>\n",
       "      <td>1131,2</td>\n",
       "      <td>150.9</td>\n",
       "      <td>17,3</td>\n",
       "    </tr>\n",
       "    <tr>\n",
       "      <th>9</th>\n",
       "      <td>Private households</td>\n",
       "      <td>Wealth</td>\n",
       "      <td>2015</td>\n",
       "      <td>7568,5</td>\n",
       "      <td>1214,3</td>\n",
       "      <td>160.4</td>\n",
       "      <td>20,9</td>\n",
       "    </tr>\n",
       "    <tr>\n",
       "      <th>10</th>\n",
       "      <td>Private households</td>\n",
       "      <td>Wealth</td>\n",
       "      <td>2016</td>\n",
       "      <td>7623,2</td>\n",
       "      <td>1271,5</td>\n",
       "      <td>166.8</td>\n",
       "      <td>23,5</td>\n",
       "    </tr>\n",
       "    <tr>\n",
       "      <th>11</th>\n",
       "      <td>Private households</td>\n",
       "      <td>Wealth</td>\n",
       "      <td>2017</td>\n",
       "      <td>7694,9</td>\n",
       "      <td>1404,9</td>\n",
       "      <td>182.6</td>\n",
       "      <td>30,2</td>\n",
       "    </tr>\n",
       "    <tr>\n",
       "      <th>12</th>\n",
       "      <td>Private households</td>\n",
       "      <td>Wealth</td>\n",
       "      <td>2018</td>\n",
       "      <td>7760,6</td>\n",
       "      <td>1551,6</td>\n",
       "      <td>199.9</td>\n",
       "      <td>39,4</td>\n",
       "    </tr>\n",
       "    <tr>\n",
       "      <th>13</th>\n",
       "      <td>Private households</td>\n",
       "      <td>Wealth</td>\n",
       "      <td>2019</td>\n",
       "      <td>7827,4</td>\n",
       "      <td>1697,3</td>\n",
       "      <td>216.8</td>\n",
       "      <td>52,4</td>\n",
       "    </tr>\n",
       "    <tr>\n",
       "      <th>14</th>\n",
       "      <td>Private households</td>\n",
       "      <td>Wealth</td>\n",
       "      <td>2020</td>\n",
       "      <td>7894,5</td>\n",
       "      <td>1888</td>\n",
       "      <td>239.2</td>\n",
       "      <td>65,3</td>\n",
       "    </tr>\n",
       "    <tr>\n",
       "      <th>15</th>\n",
       "      <td>Private households</td>\n",
       "      <td>Wealth</td>\n",
       "      <td>2021</td>\n",
       "      <td>7948,7</td>\n",
       "      <td>2072,4</td>\n",
       "      <td>260.7</td>\n",
       "      <td>87,3</td>\n",
       "    </tr>\n",
       "  </tbody>\n",
       "</table>\n",
       "</div>"
      ],
      "text/plain": [
       "   Household characteristics Components of wealth Periods  \\\n",
       "0         Private households               Wealth    2006   \n",
       "1         Private households               Wealth    2007   \n",
       "2         Private households               Wealth    2008   \n",
       "3         Private households               Wealth    2009   \n",
       "4         Private households               Wealth    2010   \n",
       "5         Private households               Wealth    2011   \n",
       "6         Private households               Wealth    2012   \n",
       "7         Private households               Wealth    2013   \n",
       "8         Private households               Wealth    2014   \n",
       "9         Private households               Wealth    2015   \n",
       "10        Private households               Wealth    2016   \n",
       "11        Private households               Wealth    2017   \n",
       "12        Private households               Wealth    2018   \n",
       "13        Private households               Wealth    2019   \n",
       "14        Private households               Wealth    2020   \n",
       "15        Private households               Wealth    2021   \n",
       "\n",
       "   Number of private households  (x 1 000) Total wealth (bn euros)  \\\n",
       "0                                   7024,5                  1146,4   \n",
       "1                                   7081,5                  1222,9   \n",
       "2                                     7146                  1309,3   \n",
       "3                                   7214,8                  1274,9   \n",
       "4                                   7281,3                    1253   \n",
       "5                                   7347,6                  1240,3   \n",
       "6                                   7412,1                  1174,6   \n",
       "7                                   7467,8                    1123   \n",
       "8                                   7496,4                  1131,2   \n",
       "9                                   7568,5                  1214,3   \n",
       "10                                  7623,2                  1271,5   \n",
       "11                                  7694,9                  1404,9   \n",
       "12                                  7760,6                  1551,6   \n",
       "13                                  7827,4                  1697,3   \n",
       "14                                  7894,5                    1888   \n",
       "15                                  7948,7                  2072,4   \n",
       "\n",
       "    Mean wealth (1 000 euros) Median wealth (1 000 euros)  \n",
       "0                       163.2                        33,1  \n",
       "1                       172.7                        40,3  \n",
       "2                       183.2                        44,6  \n",
       "3                       176.7                        40,1  \n",
       "4                       172.1                        32,7  \n",
       "5                       168.8                        31,8  \n",
       "6                       158.5                        25,1  \n",
       "7                       150.4                        17,2  \n",
       "8                       150.9                        17,3  \n",
       "9                       160.4                        20,9  \n",
       "10                      166.8                        23,5  \n",
       "11                      182.6                        30,2  \n",
       "12                      199.9                        39,4  \n",
       "13                      216.8                        52,4  \n",
       "14                      239.2                        65,3  \n",
       "15                      260.7                        87,3  "
      ]
     },
     "metadata": {},
     "output_type": "display_data"
    }
   ],
   "source": [
    "#Data preperation dataframe 1 about the wealth\n",
    "data = 'naamloze map/Wealth_households__components_of_wealth_19102023_113649.csv'\n",
    "wealth = pd.read_csv(data, delimiter = ';')\n",
    "wealth.iloc[15,2] = '2021'\n",
    "wealth['Mean wealth (1 000 euros)'] = wealth['Mean wealth (1 000 euros)'].str.replace(',', '.').astype(float)\n",
    "display(wealth)"
   ]
  },
  {
   "cell_type": "code",
   "execution_count": 82,
   "id": "a86d6d36-eae3-41f7-b4d7-c309f74ae6bb",
   "metadata": {},
   "outputs": [
    {
     "data": {
      "text/html": [
       "<div>\n",
       "<style scoped>\n",
       "    .dataframe tbody tr th:only-of-type {\n",
       "        vertical-align: middle;\n",
       "    }\n",
       "\n",
       "    .dataframe tbody tr th {\n",
       "        vertical-align: top;\n",
       "    }\n",
       "\n",
       "    .dataframe thead th {\n",
       "        text-align: right;\n",
       "    }\n",
       "</style>\n",
       "<table border=\"1\" class=\"dataframe\">\n",
       "  <thead>\n",
       "    <tr style=\"text-align: right;\">\n",
       "      <th></th>\n",
       "      <th>Airports</th>\n",
       "      <th>Periods</th>\n",
       "      <th>Total flights</th>\n",
       "      <th>Total passengers</th>\n",
       "      <th>Commercial air traffic/Cargo/Total cargo/Total cargo (ton)</th>\n",
       "      <th>Commercial air traffic/Mail/Total mail/Total mail (ton)</th>\n",
       "      <th>Amsterdam Schiphol Airport flights</th>\n",
       "      <th>Eindhoven Airport flights</th>\n",
       "      <th>Rotterdam Airport flights</th>\n",
       "    </tr>\n",
       "  </thead>\n",
       "  <tbody>\n",
       "    <tr>\n",
       "      <th>0</th>\n",
       "      <td>Total Dutch airports</td>\n",
       "      <td>2006</td>\n",
       "      <td>467332</td>\n",
       "      <td>48596556</td>\n",
       "      <td>1581305</td>\n",
       "      <td>40321</td>\n",
       "      <td>423122</td>\n",
       "      <td>11398</td>\n",
       "      <td>18276</td>\n",
       "    </tr>\n",
       "    <tr>\n",
       "      <th>1</th>\n",
       "      <td>Total Dutch airports</td>\n",
       "      <td>2007</td>\n",
       "      <td>479506</td>\n",
       "      <td>50517673</td>\n",
       "      <td>1668673</td>\n",
       "      <td>41103</td>\n",
       "      <td>435972</td>\n",
       "      <td>12390</td>\n",
       "      <td>18555</td>\n",
       "    </tr>\n",
       "    <tr>\n",
       "      <th>2</th>\n",
       "      <td>Total Dutch airports</td>\n",
       "      <td>2008</td>\n",
       "      <td>473563</td>\n",
       "      <td>50425690</td>\n",
       "      <td>1623778</td>\n",
       "      <td>34873</td>\n",
       "      <td>428332</td>\n",
       "      <td>14491</td>\n",
       "      <td>17447</td>\n",
       "    </tr>\n",
       "    <tr>\n",
       "      <th>3</th>\n",
       "      <td>Total Dutch airports</td>\n",
       "      <td>2009</td>\n",
       "      <td>429129</td>\n",
       "      <td>46455743</td>\n",
       "      <td>1340756</td>\n",
       "      <td>30749</td>\n",
       "      <td>391265</td>\n",
       "      <td>13432</td>\n",
       "      <td>15397</td>\n",
       "    </tr>\n",
       "    <tr>\n",
       "      <th>4</th>\n",
       "      <td>Total Dutch airports</td>\n",
       "      <td>2010</td>\n",
       "      <td>427392</td>\n",
       "      <td>48591528</td>\n",
       "      <td>1574598</td>\n",
       "      <td>25878</td>\n",
       "      <td>386316</td>\n",
       "      <td>16244</td>\n",
       "      <td>14643</td>\n",
       "    </tr>\n",
       "    <tr>\n",
       "      <th>5</th>\n",
       "      <td>Total Dutch airports</td>\n",
       "      <td>2011</td>\n",
       "      <td>462330</td>\n",
       "      <td>53868142</td>\n",
       "      <td>1589253</td>\n",
       "      <td>25880</td>\n",
       "      <td>420245</td>\n",
       "      <td>19680</td>\n",
       "      <td>14948</td>\n",
       "    </tr>\n",
       "    <tr>\n",
       "      <th>6</th>\n",
       "      <td>Total Dutch airports</td>\n",
       "      <td>2012</td>\n",
       "      <td>468581</td>\n",
       "      <td>55653320</td>\n",
       "      <td>1536055</td>\n",
       "      <td>28375</td>\n",
       "      <td>423405</td>\n",
       "      <td>22450</td>\n",
       "      <td>15245</td>\n",
       "    </tr>\n",
       "    <tr>\n",
       "      <th>7</th>\n",
       "      <td>Total Dutch airports</td>\n",
       "      <td>2013</td>\n",
       "      <td>476792</td>\n",
       "      <td>58047513</td>\n",
       "      <td>1585170</td>\n",
       "      <td>34872</td>\n",
       "      <td>425565</td>\n",
       "      <td>24593</td>\n",
       "      <td>18659</td>\n",
       "    </tr>\n",
       "    <tr>\n",
       "      <th>8</th>\n",
       "      <td>Total Dutch airports</td>\n",
       "      <td>2014</td>\n",
       "      <td>491024</td>\n",
       "      <td>60932617</td>\n",
       "      <td>1689976</td>\n",
       "      <td>37481</td>\n",
       "      <td>438295</td>\n",
       "      <td>27023</td>\n",
       "      <td>18790</td>\n",
       "    </tr>\n",
       "    <tr>\n",
       "      <th>9</th>\n",
       "      <td>Total Dutch airports</td>\n",
       "      <td>2015</td>\n",
       "      <td>504967</td>\n",
       "      <td>64634615</td>\n",
       "      <td>1677452</td>\n",
       "      <td>34385</td>\n",
       "      <td>450673</td>\n",
       "      <td>28835</td>\n",
       "      <td>19022</td>\n",
       "    </tr>\n",
       "    <tr>\n",
       "      <th>10</th>\n",
       "      <td>Total Dutch airports</td>\n",
       "      <td>2016</td>\n",
       "      <td>535242</td>\n",
       "      <td>70279566</td>\n",
       "      <td>1722236</td>\n",
       "      <td>32453</td>\n",
       "      <td>478864</td>\n",
       "      <td>30910</td>\n",
       "      <td>19055</td>\n",
       "    </tr>\n",
       "    <tr>\n",
       "      <th>11</th>\n",
       "      <td>Total Dutch airports</td>\n",
       "      <td>2017</td>\n",
       "      <td>555785</td>\n",
       "      <td>76203629</td>\n",
       "      <td>1839139</td>\n",
       "      <td>25813</td>\n",
       "      <td>496739</td>\n",
       "      <td>34929</td>\n",
       "      <td>16270</td>\n",
       "    </tr>\n",
       "    <tr>\n",
       "      <th>12</th>\n",
       "      <td>Total Dutch airports</td>\n",
       "      <td>2018</td>\n",
       "      <td>564546</td>\n",
       "      <td>79606318</td>\n",
       "      <td>1818955</td>\n",
       "      <td>21486</td>\n",
       "      <td>499444</td>\n",
       "      <td>37035</td>\n",
       "      <td>17615</td>\n",
       "    </tr>\n",
       "    <tr>\n",
       "      <th>13</th>\n",
       "      <td>Total Dutch airports</td>\n",
       "      <td>2019</td>\n",
       "      <td>566031</td>\n",
       "      <td>81167301</td>\n",
       "      <td>1681703</td>\n",
       "      <td>21959</td>\n",
       "      <td>496827</td>\n",
       "      <td>40209</td>\n",
       "      <td>18406</td>\n",
       "    </tr>\n",
       "    <tr>\n",
       "      <th>14</th>\n",
       "      <td>Total Dutch airports</td>\n",
       "      <td>2020</td>\n",
       "      <td>258226</td>\n",
       "      <td>23585744</td>\n",
       "      <td>1577582</td>\n",
       "      <td>14831</td>\n",
       "      <td>227275</td>\n",
       "      <td>17875</td>\n",
       "      <td>6337</td>\n",
       "    </tr>\n",
       "    <tr>\n",
       "      <th>15</th>\n",
       "      <td>Total Dutch airports</td>\n",
       "      <td>2021</td>\n",
       "      <td>303062</td>\n",
       "      <td>29069535</td>\n",
       "      <td>1795298</td>\n",
       "      <td>13550</td>\n",
       "      <td>266956</td>\n",
       "      <td>20524</td>\n",
       "      <td>8307</td>\n",
       "    </tr>\n",
       "  </tbody>\n",
       "</table>\n",
       "</div>"
      ],
      "text/plain": [
       "                Airports  Periods  Total flights  Total passengers  \\\n",
       "0   Total Dutch airports     2006         467332          48596556   \n",
       "1   Total Dutch airports     2007         479506          50517673   \n",
       "2   Total Dutch airports     2008         473563          50425690   \n",
       "3   Total Dutch airports     2009         429129          46455743   \n",
       "4   Total Dutch airports     2010         427392          48591528   \n",
       "5   Total Dutch airports     2011         462330          53868142   \n",
       "6   Total Dutch airports     2012         468581          55653320   \n",
       "7   Total Dutch airports     2013         476792          58047513   \n",
       "8   Total Dutch airports     2014         491024          60932617   \n",
       "9   Total Dutch airports     2015         504967          64634615   \n",
       "10  Total Dutch airports     2016         535242          70279566   \n",
       "11  Total Dutch airports     2017         555785          76203629   \n",
       "12  Total Dutch airports     2018         564546          79606318   \n",
       "13  Total Dutch airports     2019         566031          81167301   \n",
       "14  Total Dutch airports     2020         258226          23585744   \n",
       "15  Total Dutch airports     2021         303062          29069535   \n",
       "\n",
       "    Commercial air traffic/Cargo/Total cargo/Total cargo (ton)  \\\n",
       "0                                             1581305            \n",
       "1                                             1668673            \n",
       "2                                             1623778            \n",
       "3                                             1340756            \n",
       "4                                             1574598            \n",
       "5                                             1589253            \n",
       "6                                             1536055            \n",
       "7                                             1585170            \n",
       "8                                             1689976            \n",
       "9                                             1677452            \n",
       "10                                            1722236            \n",
       "11                                            1839139            \n",
       "12                                            1818955            \n",
       "13                                            1681703            \n",
       "14                                            1577582            \n",
       "15                                            1795298            \n",
       "\n",
       "    Commercial air traffic/Mail/Total mail/Total mail (ton)  \\\n",
       "0                                               40321         \n",
       "1                                               41103         \n",
       "2                                               34873         \n",
       "3                                               30749         \n",
       "4                                               25878         \n",
       "5                                               25880         \n",
       "6                                               28375         \n",
       "7                                               34872         \n",
       "8                                               37481         \n",
       "9                                               34385         \n",
       "10                                              32453         \n",
       "11                                              25813         \n",
       "12                                              21486         \n",
       "13                                              21959         \n",
       "14                                              14831         \n",
       "15                                              13550         \n",
       "\n",
       "    Amsterdam Schiphol Airport flights  Eindhoven Airport flights  \\\n",
       "0                               423122                      11398   \n",
       "1                               435972                      12390   \n",
       "2                               428332                      14491   \n",
       "3                               391265                      13432   \n",
       "4                               386316                      16244   \n",
       "5                               420245                      19680   \n",
       "6                               423405                      22450   \n",
       "7                               425565                      24593   \n",
       "8                               438295                      27023   \n",
       "9                               450673                      28835   \n",
       "10                              478864                      30910   \n",
       "11                              496739                      34929   \n",
       "12                              499444                      37035   \n",
       "13                              496827                      40209   \n",
       "14                              227275                      17875   \n",
       "15                              266956                      20524   \n",
       "\n",
       "    Rotterdam Airport flights  \n",
       "0                       18276  \n",
       "1                       18555  \n",
       "2                       17447  \n",
       "3                       15397  \n",
       "4                       14643  \n",
       "5                       14948  \n",
       "6                       15245  \n",
       "7                       18659  \n",
       "8                       18790  \n",
       "9                       19022  \n",
       "10                      19055  \n",
       "11                      16270  \n",
       "12                      17615  \n",
       "13                      18406  \n",
       "14                       6337  \n",
       "15                       8307  "
      ]
     },
     "metadata": {},
     "output_type": "display_data"
    }
   ],
   "source": [
    "#Data preperation dataframe 2 about the flights\n",
    "df = 'naamloze map/Monthly_figures_on_aviation_19102023_113618.csv'\n",
    "flight = pd.read_csv(df, delimiter =';')\n",
    "flight.rename(columns={'Commercial air traffic/Flights/All flights/Total flights (number)': 'Total flights'}, inplace=True)\n",
    "flight.rename(columns={'Commercial air traffic/Passengers/Total passengers/Total passengers (number)': 'Total passengers'}, inplace=True)\n",
    "flight['Amsterdam Schiphol Airport flights'] = [423122, 435972, 428332, 391265, 386316, 420245, 423405, 425565, 438295, 450673, 478864, 496739, 499444, 496827, 227275, 266956]\n",
    "flight['Eindhoven Airport flights'] = [11398, 12390, 14491, 13432, 16244, 19680, 22450, 24593, 27023, 28835, 30910, 34929, 37035, 40209, 17875, 20524]\n",
    "flight['Rotterdam Airport flights'] = [18276, 18555, 17447, 15397, 14643, 14948, 15245, 18659, 18790, 19022, 19055, 16270, 17615, 18406, 6337, 8307]\n",
    "display(flight)"
   ]
  },
  {
   "cell_type": "markdown",
   "id": "52a0c1b0-dc83-47db-a501-61e5ba188845",
   "metadata": {},
   "source": [
    "### Part 2 - Data processing"
   ]
  },
  {
   "cell_type": "markdown",
   "id": "d2c77260-84ea-46d6-9fc9-f67bc342fb9a",
   "metadata": {},
   "source": [
    "In this part, the imported flight data will be analysed to identify the trends in the data. The the scipy feature to find peaks will be used to find peaks and valleys in the data over time. "
   ]
  },
  {
   "cell_type": "code",
   "execution_count": 83,
   "id": "14484951-606e-4fe0-baf5-26913792d3d3",
   "metadata": {},
   "outputs": [
    {
     "name": "stderr",
     "output_type": "stream",
     "text": [
      "/Users/fyodor/anaconda3/envs/TIL6022/lib/python3.11/site-packages/_plotly_utils/basevalidators.py:105: FutureWarning:\n",
      "\n",
      "The behavior of DatetimeProperties.to_pydatetime is deprecated, in a future version this will return a Series containing python datetime objects instead of an ndarray. To retain the old behavior, call `np.array` on the result\n",
      "\n",
      "/Users/fyodor/anaconda3/envs/TIL6022/lib/python3.11/site-packages/_plotly_utils/basevalidators.py:105: FutureWarning:\n",
      "\n",
      "The behavior of DatetimeProperties.to_pydatetime is deprecated, in a future version this will return a Series containing python datetime objects instead of an ndarray. To retain the old behavior, call `np.array` on the result\n",
      "\n"
     ]
    },
    {
     "data": {
      "application/vnd.plotly.v1+json": {
       "config": {
        "plotlyServerURL": "https://plot.ly"
       },
       "data": [
        {
         "hovertemplate": "Periods=%{x}<br>Commercial air traffic/Passengers/Total passengers/Total passengers (number)=%{y}<extra></extra>",
         "legendgroup": "",
         "line": {
          "color": "#636efa",
          "dash": "solid"
         },
         "marker": {
          "symbol": "circle"
         },
         "mode": "lines",
         "name": "",
         "orientation": "v",
         "showlegend": false,
         "type": "scatter",
         "x": [
          "1997-01-01T00:00:00",
          "1998-01-01T00:00:00",
          "1999-01-01T00:00:00",
          "2000-01-01T00:00:00",
          "2001-01-01T00:00:00",
          "2002-01-01T00:00:00",
          "2003-01-01T00:00:00",
          "2004-01-01T00:00:00",
          "2005-01-01T00:00:00",
          "2006-01-01T00:00:00",
          "2007-01-01T00:00:00",
          "2008-01-01T00:00:00",
          "2009-01-01T00:00:00",
          "2010-01-01T00:00:00",
          "2011-01-01T00:00:00",
          "2012-01-01T00:00:00",
          "2013-01-01T00:00:00",
          "2014-01-01T00:00:00",
          "2015-01-01T00:00:00",
          "2016-01-01T00:00:00",
          "2017-01-01T00:00:00",
          "2018-01-01T00:00:00",
          "2019-01-01T00:00:00",
          "2020-01-01T00:00:00",
          "2021-01-01T00:00:00",
          null
         ],
         "xaxis": "x",
         "y": [
          32074513,
          35129029,
          37704030,
          40768990,
          40789564,
          41982755,
          41264122,
          44575911,
          46488308,
          48596556,
          50517673,
          50425690,
          46455743,
          48591528,
          53868142,
          55653320,
          58047513,
          60932617,
          64634615,
          70279566,
          76203629,
          79606318,
          81167301,
          23585744,
          29069535,
          61268058
         ],
         "yaxis": "y"
        },
        {
         "marker": {
          "color": "red",
          "size": 8
         },
         "mode": "markers",
         "name": "Peaks",
         "type": "scatter",
         "x": [
          "2002-01-01T00:00:00",
          "2007-01-01T00:00:00",
          "2019-01-01T00:00:00"
         ],
         "y": [
          41982755,
          50517673,
          81167301
         ]
        },
        {
         "marker": {
          "color": "green",
          "size": 8
         },
         "mode": "markers",
         "name": "Valleys",
         "type": "scatter",
         "x": [
          "2003-01-01T00:00:00",
          "2009-01-01T00:00:00",
          "2020-01-01T00:00:00"
         ],
         "y": [
          41264122,
          46455743,
          23585744
         ]
        }
       ],
       "layout": {
        "autosize": true,
        "legend": {
         "tracegroupgap": 0
        },
        "margin": {
         "t": 60
        },
        "template": {
         "data": {
          "bar": [
           {
            "error_x": {
             "color": "#2a3f5f"
            },
            "error_y": {
             "color": "#2a3f5f"
            },
            "marker": {
             "line": {
              "color": "#E5ECF6",
              "width": 0.5
             },
             "pattern": {
              "fillmode": "overlay",
              "size": 10,
              "solidity": 0.2
             }
            },
            "type": "bar"
           }
          ],
          "barpolar": [
           {
            "marker": {
             "line": {
              "color": "#E5ECF6",
              "width": 0.5
             },
             "pattern": {
              "fillmode": "overlay",
              "size": 10,
              "solidity": 0.2
             }
            },
            "type": "barpolar"
           }
          ],
          "carpet": [
           {
            "aaxis": {
             "endlinecolor": "#2a3f5f",
             "gridcolor": "white",
             "linecolor": "white",
             "minorgridcolor": "white",
             "startlinecolor": "#2a3f5f"
            },
            "baxis": {
             "endlinecolor": "#2a3f5f",
             "gridcolor": "white",
             "linecolor": "white",
             "minorgridcolor": "white",
             "startlinecolor": "#2a3f5f"
            },
            "type": "carpet"
           }
          ],
          "choropleth": [
           {
            "colorbar": {
             "outlinewidth": 0,
             "ticks": ""
            },
            "type": "choropleth"
           }
          ],
          "contour": [
           {
            "colorbar": {
             "outlinewidth": 0,
             "ticks": ""
            },
            "colorscale": [
             [
              0,
              "#0d0887"
             ],
             [
              0.1111111111111111,
              "#46039f"
             ],
             [
              0.2222222222222222,
              "#7201a8"
             ],
             [
              0.3333333333333333,
              "#9c179e"
             ],
             [
              0.4444444444444444,
              "#bd3786"
             ],
             [
              0.5555555555555556,
              "#d8576b"
             ],
             [
              0.6666666666666666,
              "#ed7953"
             ],
             [
              0.7777777777777778,
              "#fb9f3a"
             ],
             [
              0.8888888888888888,
              "#fdca26"
             ],
             [
              1,
              "#f0f921"
             ]
            ],
            "type": "contour"
           }
          ],
          "contourcarpet": [
           {
            "colorbar": {
             "outlinewidth": 0,
             "ticks": ""
            },
            "type": "contourcarpet"
           }
          ],
          "heatmap": [
           {
            "colorbar": {
             "outlinewidth": 0,
             "ticks": ""
            },
            "colorscale": [
             [
              0,
              "#0d0887"
             ],
             [
              0.1111111111111111,
              "#46039f"
             ],
             [
              0.2222222222222222,
              "#7201a8"
             ],
             [
              0.3333333333333333,
              "#9c179e"
             ],
             [
              0.4444444444444444,
              "#bd3786"
             ],
             [
              0.5555555555555556,
              "#d8576b"
             ],
             [
              0.6666666666666666,
              "#ed7953"
             ],
             [
              0.7777777777777778,
              "#fb9f3a"
             ],
             [
              0.8888888888888888,
              "#fdca26"
             ],
             [
              1,
              "#f0f921"
             ]
            ],
            "type": "heatmap"
           }
          ],
          "heatmapgl": [
           {
            "colorbar": {
             "outlinewidth": 0,
             "ticks": ""
            },
            "colorscale": [
             [
              0,
              "#0d0887"
             ],
             [
              0.1111111111111111,
              "#46039f"
             ],
             [
              0.2222222222222222,
              "#7201a8"
             ],
             [
              0.3333333333333333,
              "#9c179e"
             ],
             [
              0.4444444444444444,
              "#bd3786"
             ],
             [
              0.5555555555555556,
              "#d8576b"
             ],
             [
              0.6666666666666666,
              "#ed7953"
             ],
             [
              0.7777777777777778,
              "#fb9f3a"
             ],
             [
              0.8888888888888888,
              "#fdca26"
             ],
             [
              1,
              "#f0f921"
             ]
            ],
            "type": "heatmapgl"
           }
          ],
          "histogram": [
           {
            "marker": {
             "pattern": {
              "fillmode": "overlay",
              "size": 10,
              "solidity": 0.2
             }
            },
            "type": "histogram"
           }
          ],
          "histogram2d": [
           {
            "colorbar": {
             "outlinewidth": 0,
             "ticks": ""
            },
            "colorscale": [
             [
              0,
              "#0d0887"
             ],
             [
              0.1111111111111111,
              "#46039f"
             ],
             [
              0.2222222222222222,
              "#7201a8"
             ],
             [
              0.3333333333333333,
              "#9c179e"
             ],
             [
              0.4444444444444444,
              "#bd3786"
             ],
             [
              0.5555555555555556,
              "#d8576b"
             ],
             [
              0.6666666666666666,
              "#ed7953"
             ],
             [
              0.7777777777777778,
              "#fb9f3a"
             ],
             [
              0.8888888888888888,
              "#fdca26"
             ],
             [
              1,
              "#f0f921"
             ]
            ],
            "type": "histogram2d"
           }
          ],
          "histogram2dcontour": [
           {
            "colorbar": {
             "outlinewidth": 0,
             "ticks": ""
            },
            "colorscale": [
             [
              0,
              "#0d0887"
             ],
             [
              0.1111111111111111,
              "#46039f"
             ],
             [
              0.2222222222222222,
              "#7201a8"
             ],
             [
              0.3333333333333333,
              "#9c179e"
             ],
             [
              0.4444444444444444,
              "#bd3786"
             ],
             [
              0.5555555555555556,
              "#d8576b"
             ],
             [
              0.6666666666666666,
              "#ed7953"
             ],
             [
              0.7777777777777778,
              "#fb9f3a"
             ],
             [
              0.8888888888888888,
              "#fdca26"
             ],
             [
              1,
              "#f0f921"
             ]
            ],
            "type": "histogram2dcontour"
           }
          ],
          "mesh3d": [
           {
            "colorbar": {
             "outlinewidth": 0,
             "ticks": ""
            },
            "type": "mesh3d"
           }
          ],
          "parcoords": [
           {
            "line": {
             "colorbar": {
              "outlinewidth": 0,
              "ticks": ""
             }
            },
            "type": "parcoords"
           }
          ],
          "pie": [
           {
            "automargin": true,
            "type": "pie"
           }
          ],
          "scatter": [
           {
            "fillpattern": {
             "fillmode": "overlay",
             "size": 10,
             "solidity": 0.2
            },
            "type": "scatter"
           }
          ],
          "scatter3d": [
           {
            "line": {
             "colorbar": {
              "outlinewidth": 0,
              "ticks": ""
             }
            },
            "marker": {
             "colorbar": {
              "outlinewidth": 0,
              "ticks": ""
             }
            },
            "type": "scatter3d"
           }
          ],
          "scattercarpet": [
           {
            "marker": {
             "colorbar": {
              "outlinewidth": 0,
              "ticks": ""
             }
            },
            "type": "scattercarpet"
           }
          ],
          "scattergeo": [
           {
            "marker": {
             "colorbar": {
              "outlinewidth": 0,
              "ticks": ""
             }
            },
            "type": "scattergeo"
           }
          ],
          "scattergl": [
           {
            "marker": {
             "colorbar": {
              "outlinewidth": 0,
              "ticks": ""
             }
            },
            "type": "scattergl"
           }
          ],
          "scattermapbox": [
           {
            "marker": {
             "colorbar": {
              "outlinewidth": 0,
              "ticks": ""
             }
            },
            "type": "scattermapbox"
           }
          ],
          "scatterpolar": [
           {
            "marker": {
             "colorbar": {
              "outlinewidth": 0,
              "ticks": ""
             }
            },
            "type": "scatterpolar"
           }
          ],
          "scatterpolargl": [
           {
            "marker": {
             "colorbar": {
              "outlinewidth": 0,
              "ticks": ""
             }
            },
            "type": "scatterpolargl"
           }
          ],
          "scatterternary": [
           {
            "marker": {
             "colorbar": {
              "outlinewidth": 0,
              "ticks": ""
             }
            },
            "type": "scatterternary"
           }
          ],
          "surface": [
           {
            "colorbar": {
             "outlinewidth": 0,
             "ticks": ""
            },
            "colorscale": [
             [
              0,
              "#0d0887"
             ],
             [
              0.1111111111111111,
              "#46039f"
             ],
             [
              0.2222222222222222,
              "#7201a8"
             ],
             [
              0.3333333333333333,
              "#9c179e"
             ],
             [
              0.4444444444444444,
              "#bd3786"
             ],
             [
              0.5555555555555556,
              "#d8576b"
             ],
             [
              0.6666666666666666,
              "#ed7953"
             ],
             [
              0.7777777777777778,
              "#fb9f3a"
             ],
             [
              0.8888888888888888,
              "#fdca26"
             ],
             [
              1,
              "#f0f921"
             ]
            ],
            "type": "surface"
           }
          ],
          "table": [
           {
            "cells": {
             "fill": {
              "color": "#EBF0F8"
             },
             "line": {
              "color": "white"
             }
            },
            "header": {
             "fill": {
              "color": "#C8D4E3"
             },
             "line": {
              "color": "white"
             }
            },
            "type": "table"
           }
          ]
         },
         "layout": {
          "annotationdefaults": {
           "arrowcolor": "#2a3f5f",
           "arrowhead": 0,
           "arrowwidth": 1
          },
          "autotypenumbers": "strict",
          "coloraxis": {
           "colorbar": {
            "outlinewidth": 0,
            "ticks": ""
           }
          },
          "colorscale": {
           "diverging": [
            [
             0,
             "#8e0152"
            ],
            [
             0.1,
             "#c51b7d"
            ],
            [
             0.2,
             "#de77ae"
            ],
            [
             0.3,
             "#f1b6da"
            ],
            [
             0.4,
             "#fde0ef"
            ],
            [
             0.5,
             "#f7f7f7"
            ],
            [
             0.6,
             "#e6f5d0"
            ],
            [
             0.7,
             "#b8e186"
            ],
            [
             0.8,
             "#7fbc41"
            ],
            [
             0.9,
             "#4d9221"
            ],
            [
             1,
             "#276419"
            ]
           ],
           "sequential": [
            [
             0,
             "#0d0887"
            ],
            [
             0.1111111111111111,
             "#46039f"
            ],
            [
             0.2222222222222222,
             "#7201a8"
            ],
            [
             0.3333333333333333,
             "#9c179e"
            ],
            [
             0.4444444444444444,
             "#bd3786"
            ],
            [
             0.5555555555555556,
             "#d8576b"
            ],
            [
             0.6666666666666666,
             "#ed7953"
            ],
            [
             0.7777777777777778,
             "#fb9f3a"
            ],
            [
             0.8888888888888888,
             "#fdca26"
            ],
            [
             1,
             "#f0f921"
            ]
           ],
           "sequentialminus": [
            [
             0,
             "#0d0887"
            ],
            [
             0.1111111111111111,
             "#46039f"
            ],
            [
             0.2222222222222222,
             "#7201a8"
            ],
            [
             0.3333333333333333,
             "#9c179e"
            ],
            [
             0.4444444444444444,
             "#bd3786"
            ],
            [
             0.5555555555555556,
             "#d8576b"
            ],
            [
             0.6666666666666666,
             "#ed7953"
            ],
            [
             0.7777777777777778,
             "#fb9f3a"
            ],
            [
             0.8888888888888888,
             "#fdca26"
            ],
            [
             1,
             "#f0f921"
            ]
           ]
          },
          "colorway": [
           "#636efa",
           "#EF553B",
           "#00cc96",
           "#ab63fa",
           "#FFA15A",
           "#19d3f3",
           "#FF6692",
           "#B6E880",
           "#FF97FF",
           "#FECB52"
          ],
          "font": {
           "color": "#2a3f5f"
          },
          "geo": {
           "bgcolor": "white",
           "lakecolor": "white",
           "landcolor": "#E5ECF6",
           "showlakes": true,
           "showland": true,
           "subunitcolor": "white"
          },
          "hoverlabel": {
           "align": "left"
          },
          "hovermode": "closest",
          "mapbox": {
           "style": "light"
          },
          "paper_bgcolor": "white",
          "plot_bgcolor": "#E5ECF6",
          "polar": {
           "angularaxis": {
            "gridcolor": "white",
            "linecolor": "white",
            "ticks": ""
           },
           "bgcolor": "#E5ECF6",
           "radialaxis": {
            "gridcolor": "white",
            "linecolor": "white",
            "ticks": ""
           }
          },
          "scene": {
           "xaxis": {
            "backgroundcolor": "#E5ECF6",
            "gridcolor": "white",
            "gridwidth": 2,
            "linecolor": "white",
            "showbackground": true,
            "ticks": "",
            "zerolinecolor": "white"
           },
           "yaxis": {
            "backgroundcolor": "#E5ECF6",
            "gridcolor": "white",
            "gridwidth": 2,
            "linecolor": "white",
            "showbackground": true,
            "ticks": "",
            "zerolinecolor": "white"
           },
           "zaxis": {
            "backgroundcolor": "#E5ECF6",
            "gridcolor": "white",
            "gridwidth": 2,
            "linecolor": "white",
            "showbackground": true,
            "ticks": "",
            "zerolinecolor": "white"
           }
          },
          "shapedefaults": {
           "line": {
            "color": "#2a3f5f"
           }
          },
          "ternary": {
           "aaxis": {
            "gridcolor": "white",
            "linecolor": "white",
            "ticks": ""
           },
           "baxis": {
            "gridcolor": "white",
            "linecolor": "white",
            "ticks": ""
           },
           "bgcolor": "#E5ECF6",
           "caxis": {
            "gridcolor": "white",
            "linecolor": "white",
            "ticks": ""
           }
          },
          "title": {
           "x": 0.05
          },
          "xaxis": {
           "automargin": true,
           "gridcolor": "white",
           "linecolor": "white",
           "ticks": "",
           "title": {
            "standoff": 15
           },
           "zerolinecolor": "white",
           "zerolinewidth": 2
          },
          "yaxis": {
           "automargin": true,
           "gridcolor": "white",
           "linecolor": "white",
           "ticks": "",
           "title": {
            "standoff": 15
           },
           "zerolinecolor": "white",
           "zerolinewidth": 2
          }
         }
        },
        "xaxis": {
         "anchor": "y",
         "autorange": true,
         "domain": [
          0,
          1
         ],
         "range": [
          "1997-01-01",
          "2021-05-08 19:53:11.4595"
         ],
         "title": {
          "text": "Period"
         },
         "type": "date"
        },
        "yaxis": {
         "anchor": "x",
         "autorange": true,
         "domain": [
          0,
          1
         ],
         "range": [
          19367986.640127387,
          85385058.35987261
         ],
         "title": {
          "text": "Total passengers"
         },
         "type": "linear"
        }
       }
      },
      "image/png": "[encoded data removed]",
      "text/html": [
       "<div>                            <div id=\"77308fae-b39e-4261-b905-ec33fe8e68c0\" class=\"plotly-graph-div\" style=\"height:500px; width:100%;\"></div>            <script type=\"text/javascript\">                require([\"plotly\"], function(Plotly) {                    window.PLOTLYENV=window.PLOTLYENV || {};                                    if (document.getElementById(\"77308fae-b39e-4261-b905-ec33fe8e68c0\")) {                    Plotly.newPlot(                        \"77308fae-b39e-4261-b905-ec33fe8e68c0\",                        [{\"hovertemplate\":\"Periods=%{x}\\u003cbr\\u003eCommercial air traffic\\u002fPassengers\\u002fTotal passengers\\u002fTotal passengers (number)=%{y}\\u003cextra\\u003e\\u003c\\u002fextra\\u003e\",\"legendgroup\":\"\",\"line\":{\"color\":\"#636efa\",\"dash\":\"solid\"},\"marker\":{\"symbol\":\"circle\"},\"mode\":\"lines\",\"name\":\"\",\"orientation\":\"v\",\"showlegend\":false,\"x\":[\"1997-01-01T00:00:00\",\"1998-01-01T00:00:00\",\"1999-01-01T00:00:00\",\"2000-01-01T00:00:00\",\"2001-01-01T00:00:00\",\"2002-01-01T00:00:00\",\"2003-01-01T00:00:00\",\"2004-01-01T00:00:00\",\"2005-01-01T00:00:00\",\"2006-01-01T00:00:00\",\"2007-01-01T00:00:00\",\"2008-01-01T00:00:00\",\"2009-01-01T00:00:00\",\"2010-01-01T00:00:00\",\"2011-01-01T00:00:00\",\"2012-01-01T00:00:00\",\"2013-01-01T00:00:00\",\"2014-01-01T00:00:00\",\"2015-01-01T00:00:00\",\"2016-01-01T00:00:00\",\"2017-01-01T00:00:00\",\"2018-01-01T00:00:00\",\"2019-01-01T00:00:00\",\"2020-01-01T00:00:00\",\"2021-01-01T00:00:00\",null],\"xaxis\":\"x\",\"y\":[32074513,35129029,37704030,40768990,40789564,41982755,41264122,44575911,46488308,48596556,50517673,50425690,46455743,48591528,53868142,55653320,58047513,60932617,64634615,70279566,76203629,79606318,81167301,23585744,29069535,61268058],\"yaxis\":\"y\",\"type\":\"scatter\"},{\"marker\":{\"color\":\"red\",\"size\":8},\"mode\":\"markers\",\"name\":\"Peaks\",\"x\":[\"2002-01-01T00:00:00\",\"2007-01-01T00:00:00\",\"2019-01-01T00:00:00\"],\"y\":[41982755,50517673,81167301],\"type\":\"scatter\"},{\"marker\":{\"color\":\"green\",\"size\":8},\"mode\":\"markers\",\"name\":\"Valleys\",\"x\":[\"2003-01-01T00:00:00\",\"2009-01-01T00:00:00\",\"2020-01-01T00:00:00\"],\"y\":[41264122,46455743,23585744],\"type\":\"scatter\"}],                        {\"template\":{\"data\":{\"histogram2dcontour\":[{\"type\":\"histogram2dcontour\",\"colorbar\":{\"outlinewidth\":0,\"ticks\":\"\"},\"colorscale\":[[0.0,\"#0d0887\"],[0.1111111111111111,\"#46039f\"],[0.2222222222222222,\"#7201a8\"],[0.3333333333333333,\"#9c179e\"],[0.4444444444444444,\"#bd3786\"],[0.5555555555555556,\"#d8576b\"],[0.6666666666666666,\"#ed7953\"],[0.7777777777777778,\"#fb9f3a\"],[0.8888888888888888,\"#fdca26\"],[1.0,\"#f0f921\"]]}],\"choropleth\":[{\"type\":\"choropleth\",\"colorbar\":{\"outlinewidth\":0,\"ticks\":\"\"}}],\"histogram2d\":[{\"type\":\"histogram2d\",\"colorbar\":{\"outlinewidth\":0,\"ticks\":\"\"},\"colorscale\":[[0.0,\"#0d0887\"],[0.1111111111111111,\"#46039f\"],[0.2222222222222222,\"#7201a8\"],[0.3333333333333333,\"#9c179e\"],[0.4444444444444444,\"#bd3786\"],[0.5555555555555556,\"#d8576b\"],[0.6666666666666666,\"#ed7953\"],[0.7777777777777778,\"#fb9f3a\"],[0.8888888888888888,\"#fdca26\"],[1.0,\"#f0f921\"]]}],\"heatmap\":[{\"type\":\"heatmap\",\"colorbar\":{\"outlinewidth\":0,\"ticks\":\"\"},\"colorscale\":[[0.0,\"#0d0887\"],[0.1111111111111111,\"#46039f\"],[0.2222222222222222,\"#7201a8\"],[0.3333333333333333,\"#9c179e\"],[0.4444444444444444,\"#bd3786\"],[0.5555555555555556,\"#d8576b\"],[0.6666666666666666,\"#ed7953\"],[0.7777777777777778,\"#fb9f3a\"],[0.8888888888888888,\"#fdca26\"],[1.0,\"#f0f921\"]]}],\"heatmapgl\":[{\"type\":\"heatmapgl\",\"colorbar\":{\"outlinewidth\":0,\"ticks\":\"\"},\"colorscale\":[[0.0,\"#0d0887\"],[0.1111111111111111,\"#46039f\"],[0.2222222222222222,\"#7201a8\"],[0.3333333333333333,\"#9c179e\"],[0.4444444444444444,\"#bd3786\"],[0.5555555555555556,\"#d8576b\"],[0.6666666666666666,\"#ed7953\"],[0.7777777777777778,\"#fb9f3a\"],[0.8888888888888888,\"#fdca26\"],[1.0,\"#f0f921\"]]}],\"contourcarpet\":[{\"type\":\"contourcarpet\",\"colorbar\":{\"outlinewidth\":0,\"ticks\":\"\"}}],\"contour\":[{\"type\":\"contour\",\"colorbar\":{\"outlinewidth\":0,\"ticks\":\"\"},\"colorscale\":[[0.0,\"#0d0887\"],[0.1111111111111111,\"#46039f\"],[0.2222222222222222,\"#7201a8\"],[0.3333333333333333,\"#9c179e\"],[0.4444444444444444,\"#bd3786\"],[0.5555555555555556,\"#d8576b\"],[0.6666666666666666,\"#ed7953\"],[0.7777777777777778,\"#fb9f3a\"],[0.8888888888888888,\"#fdca26\"],[1.0,\"#f0f921\"]]}],\"surface\":[{\"type\":\"surface\",\"colorbar\":{\"outlinewidth\":0,\"ticks\":\"\"},\"colorscale\":[[0.0,\"#0d0887\"],[0.1111111111111111,\"#46039f\"],[0.2222222222222222,\"#7201a8\"],[0.3333333333333333,\"#9c179e\"],[0.4444444444444444,\"#bd3786\"],[0.5555555555555556,\"#d8576b\"],[0.6666666666666666,\"#ed7953\"],[0.7777777777777778,\"#fb9f3a\"],[0.8888888888888888,\"#fdca26\"],[1.0,\"#f0f921\"]]}],\"mesh3d\":[{\"type\":\"mesh3d\",\"colorbar\":{\"outlinewidth\":0,\"ticks\":\"\"}}],\"scatter\":[{\"fillpattern\":{\"fillmode\":\"overlay\",\"size\":10,\"solidity\":0.2},\"type\":\"scatter\"}],\"parcoords\":[{\"type\":\"parcoords\",\"line\":{\"colorbar\":{\"outlinewidth\":0,\"ticks\":\"\"}}}],\"scatterpolargl\":[{\"type\":\"scatterpolargl\",\"marker\":{\"colorbar\":{\"outlinewidth\":0,\"ticks\":\"\"}}}],\"bar\":[{\"error_x\":{\"color\":\"#2a3f5f\"},\"error_y\":{\"color\":\"#2a3f5f\"},\"marker\":{\"line\":{\"color\":\"#E5ECF6\",\"width\":0.5},\"pattern\":{\"fillmode\":\"overlay\",\"size\":10,\"solidity\":0.2}},\"type\":\"bar\"}],\"scattergeo\":[{\"type\":\"scattergeo\",\"marker\":{\"colorbar\":{\"outlinewidth\":0,\"ticks\":\"\"}}}],\"scatterpolar\":[{\"type\":\"scatterpolar\",\"marker\":{\"colorbar\":{\"outlinewidth\":0,\"ticks\":\"\"}}}],\"histogram\":[{\"marker\":{\"pattern\":{\"fillmode\":\"overlay\",\"size\":10,\"solidity\":0.2}},\"type\":\"histogram\"}],\"scattergl\":[{\"type\":\"scattergl\",\"marker\":{\"colorbar\":{\"outlinewidth\":0,\"ticks\":\"\"}}}],\"scatter3d\":[{\"type\":\"scatter3d\",\"line\":{\"colorbar\":{\"outlinewidth\":0,\"ticks\":\"\"}},\"marker\":{\"colorbar\":{\"outlinewidth\":0,\"ticks\":\"\"}}}],\"scattermapbox\":[{\"type\":\"scattermapbox\",\"marker\":{\"colorbar\":{\"outlinewidth\":0,\"ticks\":\"\"}}}],\"scatterternary\":[{\"type\":\"scatterternary\",\"marker\":{\"colorbar\":{\"outlinewidth\":0,\"ticks\":\"\"}}}],\"scattercarpet\":[{\"type\":\"scattercarpet\",\"marker\":{\"colorbar\":{\"outlinewidth\":0,\"ticks\":\"\"}}}],\"carpet\":[{\"aaxis\":{\"endlinecolor\":\"#2a3f5f\",\"gridcolor\":\"white\",\"linecolor\":\"white\",\"minorgridcolor\":\"white\",\"startlinecolor\":\"#2a3f5f\"},\"baxis\":{\"endlinecolor\":\"#2a3f5f\",\"gridcolor\":\"white\",\"linecolor\":\"white\",\"minorgridcolor\":\"white\",\"startlinecolor\":\"#2a3f5f\"},\"type\":\"carpet\"}],\"table\":[{\"cells\":{\"fill\":{\"color\":\"#EBF0F8\"},\"line\":{\"color\":\"white\"}},\"header\":{\"fill\":{\"color\":\"#C8D4E3\"},\"line\":{\"color\":\"white\"}},\"type\":\"table\"}],\"barpolar\":[{\"marker\":{\"line\":{\"color\":\"#E5ECF6\",\"width\":0.5},\"pattern\":{\"fillmode\":\"overlay\",\"size\":10,\"solidity\":0.2}},\"type\":\"barpolar\"}],\"pie\":[{\"automargin\":true,\"type\":\"pie\"}]},\"layout\":{\"autotypenumbers\":\"strict\",\"colorway\":[\"#636efa\",\"#EF553B\",\"#00cc96\",\"#ab63fa\",\"#FFA15A\",\"#19d3f3\",\"#FF6692\",\"#B6E880\",\"#FF97FF\",\"#FECB52\"],\"font\":{\"color\":\"#2a3f5f\"},\"hovermode\":\"closest\",\"hoverlabel\":{\"align\":\"left\"},\"paper_bgcolor\":\"white\",\"plot_bgcolor\":\"#E5ECF6\",\"polar\":{\"bgcolor\":\"#E5ECF6\",\"angularaxis\":{\"gridcolor\":\"white\",\"linecolor\":\"white\",\"ticks\":\"\"},\"radialaxis\":{\"gridcolor\":\"white\",\"linecolor\":\"white\",\"ticks\":\"\"}},\"ternary\":{\"bgcolor\":\"#E5ECF6\",\"aaxis\":{\"gridcolor\":\"white\",\"linecolor\":\"white\",\"ticks\":\"\"},\"baxis\":{\"gridcolor\":\"white\",\"linecolor\":\"white\",\"ticks\":\"\"},\"caxis\":{\"gridcolor\":\"white\",\"linecolor\":\"white\",\"ticks\":\"\"}},\"coloraxis\":{\"colorbar\":{\"outlinewidth\":0,\"ticks\":\"\"}},\"colorscale\":{\"sequential\":[[0.0,\"#0d0887\"],[0.1111111111111111,\"#46039f\"],[0.2222222222222222,\"#7201a8\"],[0.3333333333333333,\"#9c179e\"],[0.4444444444444444,\"#bd3786\"],[0.5555555555555556,\"#d8576b\"],[0.6666666666666666,\"#ed7953\"],[0.7777777777777778,\"#fb9f3a\"],[0.8888888888888888,\"#fdca26\"],[1.0,\"#f0f921\"]],\"sequentialminus\":[[0.0,\"#0d0887\"],[0.1111111111111111,\"#46039f\"],[0.2222222222222222,\"#7201a8\"],[0.3333333333333333,\"#9c179e\"],[0.4444444444444444,\"#bd3786\"],[0.5555555555555556,\"#d8576b\"],[0.6666666666666666,\"#ed7953\"],[0.7777777777777778,\"#fb9f3a\"],[0.8888888888888888,\"#fdca26\"],[1.0,\"#f0f921\"]],\"diverging\":[[0,\"#8e0152\"],[0.1,\"#c51b7d\"],[0.2,\"#de77ae\"],[0.3,\"#f1b6da\"],[0.4,\"#fde0ef\"],[0.5,\"#f7f7f7\"],[0.6,\"#e6f5d0\"],[0.7,\"#b8e186\"],[0.8,\"#7fbc41\"],[0.9,\"#4d9221\"],[1,\"#276419\"]]},\"xaxis\":{\"gridcolor\":\"white\",\"linecolor\":\"white\",\"ticks\":\"\",\"title\":{\"standoff\":15},\"zerolinecolor\":\"white\",\"automargin\":true,\"zerolinewidth\":2},\"yaxis\":{\"gridcolor\":\"white\",\"linecolor\":\"white\",\"ticks\":\"\",\"title\":{\"standoff\":15},\"zerolinecolor\":\"white\",\"automargin\":true,\"zerolinewidth\":2},\"scene\":{\"xaxis\":{\"backgroundcolor\":\"#E5ECF6\",\"gridcolor\":\"white\",\"linecolor\":\"white\",\"showbackground\":true,\"ticks\":\"\",\"zerolinecolor\":\"white\",\"gridwidth\":2},\"yaxis\":{\"backgroundcolor\":\"#E5ECF6\",\"gridcolor\":\"white\",\"linecolor\":\"white\",\"showbackground\":true,\"ticks\":\"\",\"zerolinecolor\":\"white\",\"gridwidth\":2},\"zaxis\":{\"backgroundcolor\":\"#E5ECF6\",\"gridcolor\":\"white\",\"linecolor\":\"white\",\"showbackground\":true,\"ticks\":\"\",\"zerolinecolor\":\"white\",\"gridwidth\":2}},\"shapedefaults\":{\"line\":{\"color\":\"#2a3f5f\"}},\"annotationdefaults\":{\"arrowcolor\":\"#2a3f5f\",\"arrowhead\":0,\"arrowwidth\":1},\"geo\":{\"bgcolor\":\"white\",\"landcolor\":\"#E5ECF6\",\"subunitcolor\":\"white\",\"showland\":true,\"showlakes\":true,\"lakecolor\":\"white\"},\"title\":{\"x\":0.05},\"mapbox\":{\"style\":\"light\"}}},\"xaxis\":{\"anchor\":\"y\",\"domain\":[0.0,1.0],\"title\":{\"text\":\"Period\"}},\"yaxis\":{\"anchor\":\"x\",\"domain\":[0.0,1.0],\"title\":{\"text\":\"Total passengers\"}},\"legend\":{\"tracegroupgap\":0},\"margin\":{\"t\":60},\"height\":500},                        {\"responsive\": true}                    ).then(function(){\n",
       "                            \n",
       "var gd = document.getElementById('77308fae-b39e-4261-b905-ec33fe8e68c0');\n",
       "var x = new MutationObserver(function (mutations, observer) {{\n",
       "        var display = window.getComputedStyle(gd).display;\n",
       "        if (!display || display === 'none') {{\n",
       "            console.log([gd, 'removed!']);\n",
       "            Plotly.purge(gd);\n",
       "            observer.disconnect();\n",
       "        }}\n",
       "}});\n",
       "\n",
       "// Listen for the removal of the full notebook cells\n",
       "var notebookContainer = gd.closest('#notebook-container');\n",
       "if (notebookContainer) {{\n",
       "    x.observe(notebookContainer, {childList: true});\n",
       "}}\n",
       "\n",
       "// Listen for the clearing of the current output cell\n",
       "var outputEl = gd.closest('.output');\n",
       "if (outputEl) {{\n",
       "    x.observe(outputEl, {childList: true});\n",
       "}}\n",
       "\n",
       "                        })                };                });            </script>        </div>"
      ]
     },
     "metadata": {},
     "output_type": "display_data"
    }
   ],
   "source": [
    "#creating a line chart\n",
    "fig = px.line(flight_data_year[flight_data_year['Airports'] == 'Total Dutch airports'], x='Periods', y='Commercial air traffic/Passengers/Total passengers/Total passengers (number)')\n",
    "fig.update_layout(height=500, xaxis_title='Period', yaxis_title='Total passengers')\n",
    "\n",
    "# Finding peaks and valleys \n",
    "data = flight_data_year[flight_data_year['Airports'] == 'Total Dutch airports']['Commercial air traffic/Passengers/Total passengers/Total passengers (number)']\n",
    "peaks = find_peaks(data, height=0)[0]\n",
    "valleys = find_peaks(-data)[0]  \n",
    "\n",
    "# Get corresponding x-values (periods) for peaks and valleys\n",
    "periods = flight_data_year[flight_data_year['Airports'] == 'Total Dutch airports']['Periods']\n",
    "\n",
    "# Add markers for peaks and valleys with correct x-values and labels\n",
    "peak_labels = [f'Peak: {data.iloc[peak]} passengers, {periods.iloc[peak]}' for peak in peaks]\n",
    "valley_labels = [f'Valley: {data.iloc[valley]} passengers, {periods.iloc[valley]}' for valley in valleys]\n",
    "\n",
    "# Add markers for peaks and valleys with correct x-values\n",
    "fig.add_trace(go.Scatter(x=periods.iloc[peaks], y=data.iloc[peaks],\n",
    "                    mode='markers',\n",
    "                    marker=dict(color='red', size=8),\n",
    "                    name='Peaks'))\n",
    "fig.add_trace(go.Scatter(x=periods.iloc[valleys], y=data.iloc[valleys],\n",
    "                    mode='markers',\n",
    "                    marker=dict(color='green', size=8),\n",
    "                    name='Valleys'))\n",
    "\n",
    "fig.show()"
   ]
  },
  {
   "cell_type": "markdown",
   "id": "20498baa-9df5-48ce-84a2-cb195442215a",
   "metadata": {},
   "source": [
    "In the yearly data of total passengers flying from Dutch airports, one minor valley and two major valleys can be identified. The first valley is in 2003. This is only a minor decline compared to 2002, and takes only one year. Afgter 2007, the number of passenger sees a bigger an longer decrease whereafter the total count alomost doubles in ten years, between 2009 and 2019. The year of 2002 sees the biggest drop in passenger numbers, with only a fourth of the total passengers from 2019 left in 2020.  "
   ]
  },
  {
   "cell_type": "code",
   "execution_count": 103,
   "id": "a937dd5d-c5a7-46f8-a8f2-b8c68f0abf66",
   "metadata": {},
   "outputs": [
    {
     "name": "stderr",
     "output_type": "stream",
     "text": [
      "/Users/fyodor/anaconda3/envs/TIL6022/lib/python3.11/site-packages/_plotly_utils/basevalidators.py:105: FutureWarning:\n",
      "\n",
      "The behavior of DatetimeProperties.to_pydatetime is deprecated, in a future version this will return a Series containing python datetime objects instead of an ndarray. To retain the old behavior, call `np.array` on the result\n",
      "\n",
      "/Users/fyodor/anaconda3/envs/TIL6022/lib/python3.11/site-packages/_plotly_utils/basevalidators.py:105: FutureWarning:\n",
      "\n",
      "The behavior of DatetimeProperties.to_pydatetime is deprecated, in a future version this will return a Series containing python datetime objects instead of an ndarray. To retain the old behavior, call `np.array` on the result\n",
      "\n",
      "/Users/fyodor/anaconda3/envs/TIL6022/lib/python3.11/site-packages/_plotly_utils/basevalidators.py:105: FutureWarning:\n",
      "\n",
      "The behavior of DatetimeProperties.to_pydatetime is deprecated, in a future version this will return a Series containing python datetime objects instead of an ndarray. To retain the old behavior, call `np.array` on the result\n",
      "\n"
     ]
    },
    {
     "data": {
      "application/vnd.plotly.v1+json": {
       "config": {
        "plotlyServerURL": "https://plot.ly"
       },
       "data": [
        {
         "hovertemplate": "Periods=%{x}<br>Commercial air traffic/Passengers/Total passengers/Total passengers (number)=%{y}<extra></extra>",
         "legendgroup": "",
         "line": {
          "color": "#636efa",
          "dash": "solid"
         },
         "marker": {
          "symbol": "circle"
         },
         "mode": "lines",
         "name": "",
         "orientation": "v",
         "showlegend": false,
         "type": "scatter",
         "x": [
          "2002-01-01T00:00:00",
          "2002-02-01T00:00:00",
          "2002-03-01T00:00:00",
          "2002-04-01T00:00:00",
          "2002-05-01T00:00:00",
          "2002-06-01T00:00:00",
          "2002-07-01T00:00:00",
          "2002-08-01T00:00:00",
          "2002-09-01T00:00:00",
          "2002-10-01T00:00:00",
          "2002-11-01T00:00:00",
          "2002-12-01T00:00:00",
          "2003-01-01T00:00:00",
          "2003-02-01T00:00:00",
          "2003-03-01T00:00:00",
          "2003-04-01T00:00:00",
          "2003-05-01T00:00:00",
          "2003-06-01T00:00:00",
          "2003-07-01T00:00:00",
          "2003-08-01T00:00:00",
          "2003-09-01T00:00:00",
          "2003-10-01T00:00:00",
          "2003-11-01T00:00:00",
          "2003-12-01T00:00:00",
          "2004-01-01T00:00:00"
         ],
         "xaxis": "x",
         "y": [
          2636649,
          2667372,
          3249398,
          3411882,
          3863240,
          3814245,
          4289281,
          4276395,
          4020765,
          3862884,
          2977998,
          2912646,
          2813139,
          2741087,
          3099952,
          3108279,
          3553181,
          3695057,
          4244484,
          4194993,
          3898022,
          3915075,
          3067998,
          2932855,
          2818427
         ],
         "yaxis": "y"
        },
        {
         "hovertemplate": "Periods=%{x}<br>Commercial air traffic/Passengers/Total passengers/Total passengers (number)=%{y}<extra></extra>",
         "legendgroup": "",
         "line": {
          "color": "#636efa",
          "dash": "solid"
         },
         "marker": {
          "symbol": "circle"
         },
         "mode": "lines",
         "name": "",
         "orientation": "v",
         "showlegend": false,
         "type": "scatter",
         "x": [
          "2007-01-01T00:00:00",
          "2007-02-01T00:00:00",
          "2007-03-01T00:00:00",
          "2007-04-01T00:00:00",
          "2007-05-01T00:00:00",
          "2007-06-01T00:00:00",
          "2007-07-01T00:00:00",
          "2007-08-01T00:00:00",
          "2007-09-01T00:00:00",
          "2007-10-01T00:00:00",
          "2007-11-01T00:00:00",
          "2007-12-01T00:00:00",
          "2008-01-01T00:00:00",
          "2008-02-01T00:00:00",
          "2008-03-01T00:00:00",
          "2008-04-01T00:00:00",
          "2008-05-01T00:00:00",
          "2008-06-01T00:00:00",
          "2008-07-01T00:00:00",
          "2008-08-01T00:00:00",
          "2008-09-01T00:00:00",
          "2008-10-01T00:00:00",
          "2008-11-01T00:00:00",
          "2008-12-01T00:00:00",
          "2009-01-01T00:00:00",
          "2009-02-01T00:00:00",
          "2009-03-01T00:00:00",
          "2009-04-01T00:00:00",
          "2009-05-01T00:00:00",
          "2009-06-01T00:00:00",
          "2009-07-01T00:00:00",
          "2009-08-01T00:00:00",
          "2009-09-01T00:00:00",
          "2009-10-01T00:00:00",
          "2009-11-01T00:00:00",
          "2009-12-01T00:00:00",
          "2010-01-01T00:00:00",
          "2010-02-01T00:00:00",
          "2010-03-01T00:00:00",
          "2010-04-01T00:00:00",
          "2010-05-01T00:00:00",
          "2010-06-01T00:00:00",
          "2010-07-01T00:00:00",
          "2010-08-01T00:00:00",
          "2010-09-01T00:00:00",
          "2010-10-01T00:00:00",
          "2010-11-01T00:00:00",
          "2010-12-01T00:00:00",
          "2011-01-01T00:00:00"
         ],
         "xaxis": "x2",
         "y": [
          3331523,
          3213977,
          3896807,
          4121803,
          4566599,
          4529566,
          5172312,
          5121598,
          4713449,
          4656638,
          3647578,
          3545823,
          3388686,
          3348700,
          3973721,
          4156519,
          4713826,
          4704148,
          5175950,
          5025767,
          4600637,
          4560314,
          3443549,
          3333873,
          3072606,
          2891262,
          3390581,
          3888685,
          4173577,
          4130139,
          4851476,
          4811406,
          4322719,
          4274814,
          3355439,
          3293039,
          3114971,
          3049444,
          3697355,
          3213665,
          4447089,
          4442139,
          5119203,
          5058056,
          4623783,
          4666071,
          3719403,
          3440349,
          3466587
         ],
         "yaxis": "y2"
        },
        {
         "hovertemplate": "Periods=%{x}<br>Commercial air traffic/Passengers/Total passengers/Total passengers (number)=%{y}<extra></extra>",
         "legendgroup": "",
         "line": {
          "color": "#636efa",
          "dash": "solid"
         },
         "marker": {
          "symbol": "circle"
         },
         "mode": "lines",
         "name": "",
         "orientation": "v",
         "showlegend": false,
         "type": "scatter",
         "x": [
          "2019-01-01T00:00:00",
          "2019-02-01T00:00:00",
          "2019-03-01T00:00:00",
          "2019-04-01T00:00:00",
          "2019-05-01T00:00:00",
          "2019-06-01T00:00:00",
          "2019-07-01T00:00:00",
          "2019-08-01T00:00:00",
          "2019-09-01T00:00:00",
          "2019-10-01T00:00:00",
          "2019-11-01T00:00:00",
          "2019-12-01T00:00:00",
          "2020-01-01T00:00:00",
          "2020-02-01T00:00:00",
          "2020-03-01T00:00:00",
          "2020-04-01T00:00:00",
          "2020-05-01T00:00:00",
          "2020-06-01T00:00:00",
          "2020-07-01T00:00:00",
          "2020-08-01T00:00:00",
          "2020-09-01T00:00:00",
          "2020-10-01T00:00:00",
          "2020-11-01T00:00:00",
          "2020-12-01T00:00:00",
          "2021-01-01T00:00:00"
         ],
         "xaxis": "x3",
         "y": [
          5495052,
          5352301,
          6270788,
          6926059,
          7396960,
          7471334,
          7730263,
          7859458,
          7486440,
          7354352,
          5885771,
          5938523,
          5595249,
          5281600,
          2773554,
          133752,
          220120,
          526544,
          1690515,
          2242935,
          1547263,
          1303123,
          965071,
          1306018,
          909617
         ],
         "yaxis": "y3"
        }
       ],
       "layout": {
        "annotations": [
         {
          "font": {
           "size": 16
          },
          "showarrow": false,
          "text": "2002-2004",
          "x": 0.14444444444444446,
          "xanchor": "center",
          "xref": "paper",
          "y": 1,
          "yanchor": "bottom",
          "yref": "paper"
         },
         {
          "font": {
           "size": 16
          },
          "showarrow": false,
          "text": "2007-2011",
          "x": 0.5,
          "xanchor": "center",
          "xref": "paper",
          "y": 1,
          "yanchor": "bottom",
          "yref": "paper"
         },
         {
          "font": {
           "size": 16
          },
          "showarrow": false,
          "text": "2019-2021",
          "x": 0.8555555555555556,
          "xanchor": "center",
          "xref": "paper",
          "y": 1,
          "yanchor": "bottom",
          "yref": "paper"
         }
        ],
        "autosize": true,
        "template": {
         "data": {
          "bar": [
           {
            "error_x": {
             "color": "#2a3f5f"
            },
            "error_y": {
             "color": "#2a3f5f"
            },
            "marker": {
             "line": {
              "color": "#E5ECF6",
              "width": 0.5
             },
             "pattern": {
              "fillmode": "overlay",
              "size": 10,
              "solidity": 0.2
             }
            },
            "type": "bar"
           }
          ],
          "barpolar": [
           {
            "marker": {
             "line": {
              "color": "#E5ECF6",
              "width": 0.5
             },
             "pattern": {
              "fillmode": "overlay",
              "size": 10,
              "solidity": 0.2
             }
            },
            "type": "barpolar"
           }
          ],
          "carpet": [
           {
            "aaxis": {
             "endlinecolor": "#2a3f5f",
             "gridcolor": "white",
             "linecolor": "white",
             "minorgridcolor": "white",
             "startlinecolor": "#2a3f5f"
            },
            "baxis": {
             "endlinecolor": "#2a3f5f",
             "gridcolor": "white",
             "linecolor": "white",
             "minorgridcolor": "white",
             "startlinecolor": "#2a3f5f"
            },
            "type": "carpet"
           }
          ],
          "choropleth": [
           {
            "colorbar": {
             "outlinewidth": 0,
             "ticks": ""
            },
            "type": "choropleth"
           }
          ],
          "contour": [
           {
            "colorbar": {
             "outlinewidth": 0,
             "ticks": ""
            },
            "colorscale": [
             [
              0,
              "#0d0887"
             ],
             [
              0.1111111111111111,
              "#46039f"
             ],
             [
              0.2222222222222222,
              "#7201a8"
             ],
             [
              0.3333333333333333,
              "#9c179e"
             ],
             [
              0.4444444444444444,
              "#bd3786"
             ],
             [
              0.5555555555555556,
              "#d8576b"
             ],
             [
              0.6666666666666666,
              "#ed7953"
             ],
             [
              0.7777777777777778,
              "#fb9f3a"
             ],
             [
              0.8888888888888888,
              "#fdca26"
             ],
             [
              1,
              "#f0f921"
             ]
            ],
            "type": "contour"
           }
          ],
          "contourcarpet": [
           {
            "colorbar": {
             "outlinewidth": 0,
             "ticks": ""
            },
            "type": "contourcarpet"
           }
          ],
          "heatmap": [
           {
            "colorbar": {
             "outlinewidth": 0,
             "ticks": ""
            },
            "colorscale": [
             [
              0,
              "#0d0887"
             ],
             [
              0.1111111111111111,
              "#46039f"
             ],
             [
              0.2222222222222222,
              "#7201a8"
             ],
             [
              0.3333333333333333,
              "#9c179e"
             ],
             [
              0.4444444444444444,
              "#bd3786"
             ],
             [
              0.5555555555555556,
              "#d8576b"
             ],
             [
              0.6666666666666666,
              "#ed7953"
             ],
             [
              0.7777777777777778,
              "#fb9f3a"
             ],
             [
              0.8888888888888888,
              "#fdca26"
             ],
             [
              1,
              "#f0f921"
             ]
            ],
            "type": "heatmap"
           }
          ],
          "heatmapgl": [
           {
            "colorbar": {
             "outlinewidth": 0,
             "ticks": ""
            },
            "colorscale": [
             [
              0,
              "#0d0887"
             ],
             [
              0.1111111111111111,
              "#46039f"
             ],
             [
              0.2222222222222222,
              "#7201a8"
             ],
             [
              0.3333333333333333,
              "#9c179e"
             ],
             [
              0.4444444444444444,
              "#bd3786"
             ],
             [
              0.5555555555555556,
              "#d8576b"
             ],
             [
              0.6666666666666666,
              "#ed7953"
             ],
             [
              0.7777777777777778,
              "#fb9f3a"
             ],
             [
              0.8888888888888888,
              "#fdca26"
             ],
             [
              1,
              "#f0f921"
             ]
            ],
            "type": "heatmapgl"
           }
          ],
          "histogram": [
           {
            "marker": {
             "pattern": {
              "fillmode": "overlay",
              "size": 10,
              "solidity": 0.2
             }
            },
            "type": "histogram"
           }
          ],
          "histogram2d": [
           {
            "colorbar": {
             "outlinewidth": 0,
             "ticks": ""
            },
            "colorscale": [
             [
              0,
              "#0d0887"
             ],
             [
              0.1111111111111111,
              "#46039f"
             ],
             [
              0.2222222222222222,
              "#7201a8"
             ],
             [
              0.3333333333333333,
              "#9c179e"
             ],
             [
              0.4444444444444444,
              "#bd3786"
             ],
             [
              0.5555555555555556,
              "#d8576b"
             ],
             [
              0.6666666666666666,
              "#ed7953"
             ],
             [
              0.7777777777777778,
              "#fb9f3a"
             ],
             [
              0.8888888888888888,
              "#fdca26"
             ],
             [
              1,
              "#f0f921"
             ]
            ],
            "type": "histogram2d"
           }
          ],
          "histogram2dcontour": [
           {
            "colorbar": {
             "outlinewidth": 0,
             "ticks": ""
            },
            "colorscale": [
             [
              0,
              "#0d0887"
             ],
             [
              0.1111111111111111,
              "#46039f"
             ],
             [
              0.2222222222222222,
              "#7201a8"
             ],
             [
              0.3333333333333333,
              "#9c179e"
             ],
             [
              0.4444444444444444,
              "#bd3786"
             ],
             [
              0.5555555555555556,
              "#d8576b"
             ],
             [
              0.6666666666666666,
              "#ed7953"
             ],
             [
              0.7777777777777778,
              "#fb9f3a"
             ],
             [
              0.8888888888888888,
              "#fdca26"
             ],
             [
              1,
              "#f0f921"
             ]
            ],
            "type": "histogram2dcontour"
           }
          ],
          "mesh3d": [
           {
            "colorbar": {
             "outlinewidth": 0,
             "ticks": ""
            },
            "type": "mesh3d"
           }
          ],
          "parcoords": [
           {
            "line": {
             "colorbar": {
              "outlinewidth": 0,
              "ticks": ""
             }
            },
            "type": "parcoords"
           }
          ],
          "pie": [
           {
            "automargin": true,
            "type": "pie"
           }
          ],
          "scatter": [
           {
            "fillpattern": {
             "fillmode": "overlay",
             "size": 10,
             "solidity": 0.2
            },
            "type": "scatter"
           }
          ],
          "scatter3d": [
           {
            "line": {
             "colorbar": {
              "outlinewidth": 0,
              "ticks": ""
             }
            },
            "marker": {
             "colorbar": {
              "outlinewidth": 0,
              "ticks": ""
             }
            },
            "type": "scatter3d"
           }
          ],
          "scattercarpet": [
           {
            "marker": {
             "colorbar": {
              "outlinewidth": 0,
              "ticks": ""
             }
            },
            "type": "scattercarpet"
           }
          ],
          "scattergeo": [
           {
            "marker": {
             "colorbar": {
              "outlinewidth": 0,
              "ticks": ""
             }
            },
            "type": "scattergeo"
           }
          ],
          "scattergl": [
           {
            "marker": {
             "colorbar": {
              "outlinewidth": 0,
              "ticks": ""
             }
            },
            "type": "scattergl"
           }
          ],
          "scattermapbox": [
           {
            "marker": {
             "colorbar": {
              "outlinewidth": 0,
              "ticks": ""
             }
            },
            "type": "scattermapbox"
           }
          ],
          "scatterpolar": [
           {
            "marker": {
             "colorbar": {
              "outlinewidth": 0,
              "ticks": ""
             }
            },
            "type": "scatterpolar"
           }
          ],
          "scatterpolargl": [
           {
            "marker": {
             "colorbar": {
              "outlinewidth": 0,
              "ticks": ""
             }
            },
            "type": "scatterpolargl"
           }
          ],
          "scatterternary": [
           {
            "marker": {
             "colorbar": {
              "outlinewidth": 0,
              "ticks": ""
             }
            },
            "type": "scatterternary"
           }
          ],
          "surface": [
           {
            "colorbar": {
             "outlinewidth": 0,
             "ticks": ""
            },
            "colorscale": [
             [
              0,
              "#0d0887"
             ],
             [
              0.1111111111111111,
              "#46039f"
             ],
             [
              0.2222222222222222,
              "#7201a8"
             ],
             [
              0.3333333333333333,
              "#9c179e"
             ],
             [
              0.4444444444444444,
              "#bd3786"
             ],
             [
              0.5555555555555556,
              "#d8576b"
             ],
             [
              0.6666666666666666,
              "#ed7953"
             ],
             [
              0.7777777777777778,
              "#fb9f3a"
             ],
             [
              0.8888888888888888,
              "#fdca26"
             ],
             [
              1,
              "#f0f921"
             ]
            ],
            "type": "surface"
           }
          ],
          "table": [
           {
            "cells": {
             "fill": {
              "color": "#EBF0F8"
             },
             "line": {
              "color": "white"
             }
            },
            "header": {
             "fill": {
              "color": "#C8D4E3"
             },
             "line": {
              "color": "white"
             }
            },
            "type": "table"
           }
          ]
         },
         "layout": {
          "annotationdefaults": {
           "arrowcolor": "#2a3f5f",
           "arrowhead": 0,
           "arrowwidth": 1
          },
          "autotypenumbers": "strict",
          "coloraxis": {
           "colorbar": {
            "outlinewidth": 0,
            "ticks": ""
           }
          },
          "colorscale": {
           "diverging": [
            [
             0,
             "#8e0152"
            ],
            [
             0.1,
             "#c51b7d"
            ],
            [
             0.2,
             "#de77ae"
            ],
            [
             0.3,
             "#f1b6da"
            ],
            [
             0.4,
             "#fde0ef"
            ],
            [
             0.5,
             "#f7f7f7"
            ],
            [
             0.6,
             "#e6f5d0"
            ],
            [
             0.7,
             "#b8e186"
            ],
            [
             0.8,
             "#7fbc41"
            ],
            [
             0.9,
             "#4d9221"
            ],
            [
             1,
             "#276419"
            ]
           ],
           "sequential": [
            [
             0,
             "#0d0887"
            ],
            [
             0.1111111111111111,
             "#46039f"
            ],
            [
             0.2222222222222222,
             "#7201a8"
            ],
            [
             0.3333333333333333,
             "#9c179e"
            ],
            [
             0.4444444444444444,
             "#bd3786"
            ],
            [
             0.5555555555555556,
             "#d8576b"
            ],
            [
             0.6666666666666666,
             "#ed7953"
            ],
            [
             0.7777777777777778,
             "#fb9f3a"
            ],
            [
             0.8888888888888888,
             "#fdca26"
            ],
            [
             1,
             "#f0f921"
            ]
           ],
           "sequentialminus": [
            [
             0,
             "#0d0887"
            ],
            [
             0.1111111111111111,
             "#46039f"
            ],
            [
             0.2222222222222222,
             "#7201a8"
            ],
            [
             0.3333333333333333,
             "#9c179e"
            ],
            [
             0.4444444444444444,
             "#bd3786"
            ],
            [
             0.5555555555555556,
             "#d8576b"
            ],
            [
             0.6666666666666666,
             "#ed7953"
            ],
            [
             0.7777777777777778,
             "#fb9f3a"
            ],
            [
             0.8888888888888888,
             "#fdca26"
            ],
            [
             1,
             "#f0f921"
            ]
           ]
          },
          "colorway": [
           "#636efa",
           "#EF553B",
           "#00cc96",
           "#ab63fa",
           "#FFA15A",
           "#19d3f3",
           "#FF6692",
           "#B6E880",
           "#FF97FF",
           "#FECB52"
          ],
          "font": {
           "color": "#2a3f5f"
          },
          "geo": {
           "bgcolor": "white",
           "lakecolor": "white",
           "landcolor": "#E5ECF6",
           "showlakes": true,
           "showland": true,
           "subunitcolor": "white"
          },
          "hoverlabel": {
           "align": "left"
          },
          "hovermode": "closest",
          "mapbox": {
           "style": "light"
          },
          "paper_bgcolor": "white",
          "plot_bgcolor": "#E5ECF6",
          "polar": {
           "angularaxis": {
            "gridcolor": "white",
            "linecolor": "white",
            "ticks": ""
           },
           "bgcolor": "#E5ECF6",
           "radialaxis": {
            "gridcolor": "white",
            "linecolor": "white",
            "ticks": ""
           }
          },
          "scene": {
           "xaxis": {
            "backgroundcolor": "#E5ECF6",
            "gridcolor": "white",
            "gridwidth": 2,
            "linecolor": "white",
            "showbackground": true,
            "ticks": "",
            "zerolinecolor": "white"
           },
           "yaxis": {
            "backgroundcolor": "#E5ECF6",
            "gridcolor": "white",
            "gridwidth": 2,
            "linecolor": "white",
            "showbackground": true,
            "ticks": "",
            "zerolinecolor": "white"
           },
           "zaxis": {
            "backgroundcolor": "#E5ECF6",
            "gridcolor": "white",
            "gridwidth": 2,
            "linecolor": "white",
            "showbackground": true,
            "ticks": "",
            "zerolinecolor": "white"
           }
          },
          "shapedefaults": {
           "line": {
            "color": "#2a3f5f"
           }
          },
          "ternary": {
           "aaxis": {
            "gridcolor": "white",
            "linecolor": "white",
            "ticks": ""
           },
           "baxis": {
            "gridcolor": "white",
            "linecolor": "white",
            "ticks": ""
           },
           "bgcolor": "#E5ECF6",
           "caxis": {
            "gridcolor": "white",
            "linecolor": "white",
            "ticks": ""
           }
          },
          "title": {
           "x": 0.05
          },
          "xaxis": {
           "automargin": true,
           "gridcolor": "white",
           "linecolor": "white",
           "ticks": "",
           "title": {
            "standoff": 15
           },
           "zerolinecolor": "white",
           "zerolinewidth": 2
          },
          "yaxis": {
           "automargin": true,
           "gridcolor": "white",
           "linecolor": "white",
           "ticks": "",
           "title": {
            "standoff": 15
           },
           "zerolinecolor": "white",
           "zerolinewidth": 2
          }
         }
        },
        "xaxis": {
         "anchor": "y",
         "autorange": true,
         "domain": [
          0,
          0.2888888888888889
         ],
         "range": [
          "2002-01-01",
          "2004-01-01"
         ],
         "title": {
          "text": "Period"
         },
         "type": "date"
        },
        "xaxis2": {
         "anchor": "y2",
         "autorange": true,
         "domain": [
          0.35555555555555557,
          0.6444444444444445
         ],
         "range": [
          "2007-01-01",
          "2011-01-01"
         ],
         "type": "date"
        },
        "xaxis3": {
         "anchor": "y3",
         "autorange": true,
         "domain": [
          0.7111111111111111,
          1
         ],
         "range": [
          "2019-01-01",
          "2021-01-01"
         ],
         "type": "date"
        },
        "yaxis": {
         "anchor": "x",
         "autorange": true,
         "domain": [
          0,
          1
         ],
         "range": [
          2544836.111111111,
          4381093.888888889
         ],
         "title": {
          "text": "Total passengers"
         },
         "type": "linear"
        },
        "yaxis2": {
         "anchor": "x2",
         "autorange": true,
         "domain": [
          0,
          1
         ],
         "range": [
          2764334.888888889,
          5302877.111111111
         ],
         "type": "linear"
        },
        "yaxis3": {
         "anchor": "x3",
         "autorange": true,
         "domain": [
          0,
          1
         ],
         "range": [
          -295453.8888888889,
          8288663.888888889
         ],
         "type": "linear"
        }
       }
      },
      "image/png": "[encoded data removed]",
      "text/html": [
       "<div>                            <div id=\"be424b28-0cda-4315-ba4e-8683c978d8e0\" class=\"plotly-graph-div\" style=\"height:500px; width:100%;\"></div>            <script type=\"text/javascript\">                require([\"plotly\"], function(Plotly) {                    window.PLOTLYENV=window.PLOTLYENV || {};                                    if (document.getElementById(\"be424b28-0cda-4315-ba4e-8683c978d8e0\")) {                    Plotly.newPlot(                        \"be424b28-0cda-4315-ba4e-8683c978d8e0\",                        [{\"hovertemplate\":\"Periods=%{x}\\u003cbr\\u003eCommercial air traffic\\u002fPassengers\\u002fTotal passengers\\u002fTotal passengers (number)=%{y}\\u003cextra\\u003e\\u003c\\u002fextra\\u003e\",\"legendgroup\":\"\",\"line\":{\"color\":\"#636efa\",\"dash\":\"solid\"},\"marker\":{\"symbol\":\"circle\"},\"mode\":\"lines\",\"name\":\"\",\"orientation\":\"v\",\"showlegend\":false,\"x\":[\"2002-01-01T00:00:00\",\"2002-02-01T00:00:00\",\"2002-03-01T00:00:00\",\"2002-04-01T00:00:00\",\"2002-05-01T00:00:00\",\"2002-06-01T00:00:00\",\"2002-07-01T00:00:00\",\"2002-08-01T00:00:00\",\"2002-09-01T00:00:00\",\"2002-10-01T00:00:00\",\"2002-11-01T00:00:00\",\"2002-12-01T00:00:00\",\"2003-01-01T00:00:00\",\"2003-02-01T00:00:00\",\"2003-03-01T00:00:00\",\"2003-04-01T00:00:00\",\"2003-05-01T00:00:00\",\"2003-06-01T00:00:00\",\"2003-07-01T00:00:00\",\"2003-08-01T00:00:00\",\"2003-09-01T00:00:00\",\"2003-10-01T00:00:00\",\"2003-11-01T00:00:00\",\"2003-12-01T00:00:00\",\"2004-01-01T00:00:00\"],\"xaxis\":\"x\",\"y\":[2636649,2667372,3249398,3411882,3863240,3814245,4289281,4276395,4020765,3862884,2977998,2912646,2813139,2741087,3099952,3108279,3553181,3695057,4244484,4194993,3898022,3915075,3067998,2932855,2818427],\"yaxis\":\"y\",\"type\":\"scatter\"},{\"hovertemplate\":\"Periods=%{x}\\u003cbr\\u003eCommercial air traffic\\u002fPassengers\\u002fTotal passengers\\u002fTotal passengers (number)=%{y}\\u003cextra\\u003e\\u003c\\u002fextra\\u003e\",\"legendgroup\":\"\",\"line\":{\"color\":\"#636efa\",\"dash\":\"solid\"},\"marker\":{\"symbol\":\"circle\"},\"mode\":\"lines\",\"name\":\"\",\"orientation\":\"v\",\"showlegend\":false,\"x\":[\"2007-01-01T00:00:00\",\"2007-02-01T00:00:00\",\"2007-03-01T00:00:00\",\"2007-04-01T00:00:00\",\"2007-05-01T00:00:00\",\"2007-06-01T00:00:00\",\"2007-07-01T00:00:00\",\"2007-08-01T00:00:00\",\"2007-09-01T00:00:00\",\"2007-10-01T00:00:00\",\"2007-11-01T00:00:00\",\"2007-12-01T00:00:00\",\"2008-01-01T00:00:00\",\"2008-02-01T00:00:00\",\"2008-03-01T00:00:00\",\"2008-04-01T00:00:00\",\"2008-05-01T00:00:00\",\"2008-06-01T00:00:00\",\"2008-07-01T00:00:00\",\"2008-08-01T00:00:00\",\"2008-09-01T00:00:00\",\"2008-10-01T00:00:00\",\"2008-11-01T00:00:00\",\"2008-12-01T00:00:00\",\"2009-01-01T00:00:00\",\"2009-02-01T00:00:00\",\"2009-03-01T00:00:00\",\"2009-04-01T00:00:00\",\"2009-05-01T00:00:00\",\"2009-06-01T00:00:00\",\"2009-07-01T00:00:00\",\"2009-08-01T00:00:00\",\"2009-09-01T00:00:00\",\"2009-10-01T00:00:00\",\"2009-11-01T00:00:00\",\"2009-12-01T00:00:00\",\"2010-01-01T00:00:00\",\"2010-02-01T00:00:00\",\"2010-03-01T00:00:00\",\"2010-04-01T00:00:00\",\"2010-05-01T00:00:00\",\"2010-06-01T00:00:00\",\"2010-07-01T00:00:00\",\"2010-08-01T00:00:00\",\"2010-09-01T00:00:00\",\"2010-10-01T00:00:00\",\"2010-11-01T00:00:00\",\"2010-12-01T00:00:00\",\"2011-01-01T00:00:00\"],\"xaxis\":\"x2\",\"y\":[3331523,3213977,3896807,4121803,4566599,4529566,5172312,5121598,4713449,4656638,3647578,3545823,3388686,3348700,3973721,4156519,4713826,4704148,5175950,5025767,4600637,4560314,3443549,3333873,3072606,2891262,3390581,3888685,4173577,4130139,4851476,4811406,4322719,4274814,3355439,3293039,3114971,3049444,3697355,3213665,4447089,4442139,5119203,5058056,4623783,4666071,3719403,3440349,3466587],\"yaxis\":\"y2\",\"type\":\"scatter\"},{\"hovertemplate\":\"Periods=%{x}\\u003cbr\\u003eCommercial air traffic\\u002fPassengers\\u002fTotal passengers\\u002fTotal passengers (number)=%{y}\\u003cextra\\u003e\\u003c\\u002fextra\\u003e\",\"legendgroup\":\"\",\"line\":{\"color\":\"#636efa\",\"dash\":\"solid\"},\"marker\":{\"symbol\":\"circle\"},\"mode\":\"lines\",\"name\":\"\",\"orientation\":\"v\",\"showlegend\":false,\"x\":[\"2019-01-01T00:00:00\",\"2019-02-01T00:00:00\",\"2019-03-01T00:00:00\",\"2019-04-01T00:00:00\",\"2019-05-01T00:00:00\",\"2019-06-01T00:00:00\",\"2019-07-01T00:00:00\",\"2019-08-01T00:00:00\",\"2019-09-01T00:00:00\",\"2019-10-01T00:00:00\",\"2019-11-01T00:00:00\",\"2019-12-01T00:00:00\",\"2020-01-01T00:00:00\",\"2020-02-01T00:00:00\",\"2020-03-01T00:00:00\",\"2020-04-01T00:00:00\",\"2020-05-01T00:00:00\",\"2020-06-01T00:00:00\",\"2020-07-01T00:00:00\",\"2020-08-01T00:00:00\",\"2020-09-01T00:00:00\",\"2020-10-01T00:00:00\",\"2020-11-01T00:00:00\",\"2020-12-01T00:00:00\",\"2021-01-01T00:00:00\"],\"xaxis\":\"x3\",\"y\":[5495052,5352301,6270788,6926059,7396960,7471334,7730263,7859458,7486440,7354352,5885771,5938523,5595249,5281600,2773554,133752,220120,526544,1690515,2242935,1547263,1303123,965071,1306018,909617],\"yaxis\":\"y3\",\"type\":\"scatter\"}],                        {\"template\":{\"data\":{\"histogram2dcontour\":[{\"type\":\"histogram2dcontour\",\"colorbar\":{\"outlinewidth\":0,\"ticks\":\"\"},\"colorscale\":[[0.0,\"#0d0887\"],[0.1111111111111111,\"#46039f\"],[0.2222222222222222,\"#7201a8\"],[0.3333333333333333,\"#9c179e\"],[0.4444444444444444,\"#bd3786\"],[0.5555555555555556,\"#d8576b\"],[0.6666666666666666,\"#ed7953\"],[0.7777777777777778,\"#fb9f3a\"],[0.8888888888888888,\"#fdca26\"],[1.0,\"#f0f921\"]]}],\"choropleth\":[{\"type\":\"choropleth\",\"colorbar\":{\"outlinewidth\":0,\"ticks\":\"\"}}],\"histogram2d\":[{\"type\":\"histogram2d\",\"colorbar\":{\"outlinewidth\":0,\"ticks\":\"\"},\"colorscale\":[[0.0,\"#0d0887\"],[0.1111111111111111,\"#46039f\"],[0.2222222222222222,\"#7201a8\"],[0.3333333333333333,\"#9c179e\"],[0.4444444444444444,\"#bd3786\"],[0.5555555555555556,\"#d8576b\"],[0.6666666666666666,\"#ed7953\"],[0.7777777777777778,\"#fb9f3a\"],[0.8888888888888888,\"#fdca26\"],[1.0,\"#f0f921\"]]}],\"heatmap\":[{\"type\":\"heatmap\",\"colorbar\":{\"outlinewidth\":0,\"ticks\":\"\"},\"colorscale\":[[0.0,\"#0d0887\"],[0.1111111111111111,\"#46039f\"],[0.2222222222222222,\"#7201a8\"],[0.3333333333333333,\"#9c179e\"],[0.4444444444444444,\"#bd3786\"],[0.5555555555555556,\"#d8576b\"],[0.6666666666666666,\"#ed7953\"],[0.7777777777777778,\"#fb9f3a\"],[0.8888888888888888,\"#fdca26\"],[1.0,\"#f0f921\"]]}],\"heatmapgl\":[{\"type\":\"heatmapgl\",\"colorbar\":{\"outlinewidth\":0,\"ticks\":\"\"},\"colorscale\":[[0.0,\"#0d0887\"],[0.1111111111111111,\"#46039f\"],[0.2222222222222222,\"#7201a8\"],[0.3333333333333333,\"#9c179e\"],[0.4444444444444444,\"#bd3786\"],[0.5555555555555556,\"#d8576b\"],[0.6666666666666666,\"#ed7953\"],[0.7777777777777778,\"#fb9f3a\"],[0.8888888888888888,\"#fdca26\"],[1.0,\"#f0f921\"]]}],\"contourcarpet\":[{\"type\":\"contourcarpet\",\"colorbar\":{\"outlinewidth\":0,\"ticks\":\"\"}}],\"contour\":[{\"type\":\"contour\",\"colorbar\":{\"outlinewidth\":0,\"ticks\":\"\"},\"colorscale\":[[0.0,\"#0d0887\"],[0.1111111111111111,\"#46039f\"],[0.2222222222222222,\"#7201a8\"],[0.3333333333333333,\"#9c179e\"],[0.4444444444444444,\"#bd3786\"],[0.5555555555555556,\"#d8576b\"],[0.6666666666666666,\"#ed7953\"],[0.7777777777777778,\"#fb9f3a\"],[0.8888888888888888,\"#fdca26\"],[1.0,\"#f0f921\"]]}],\"surface\":[{\"type\":\"surface\",\"colorbar\":{\"outlinewidth\":0,\"ticks\":\"\"},\"colorscale\":[[0.0,\"#0d0887\"],[0.1111111111111111,\"#46039f\"],[0.2222222222222222,\"#7201a8\"],[0.3333333333333333,\"#9c179e\"],[0.4444444444444444,\"#bd3786\"],[0.5555555555555556,\"#d8576b\"],[0.6666666666666666,\"#ed7953\"],[0.7777777777777778,\"#fb9f3a\"],[0.8888888888888888,\"#fdca26\"],[1.0,\"#f0f921\"]]}],\"mesh3d\":[{\"type\":\"mesh3d\",\"colorbar\":{\"outlinewidth\":0,\"ticks\":\"\"}}],\"scatter\":[{\"fillpattern\":{\"fillmode\":\"overlay\",\"size\":10,\"solidity\":0.2},\"type\":\"scatter\"}],\"parcoords\":[{\"type\":\"parcoords\",\"line\":{\"colorbar\":{\"outlinewidth\":0,\"ticks\":\"\"}}}],\"scatterpolargl\":[{\"type\":\"scatterpolargl\",\"marker\":{\"colorbar\":{\"outlinewidth\":0,\"ticks\":\"\"}}}],\"bar\":[{\"error_x\":{\"color\":\"#2a3f5f\"},\"error_y\":{\"color\":\"#2a3f5f\"},\"marker\":{\"line\":{\"color\":\"#E5ECF6\",\"width\":0.5},\"pattern\":{\"fillmode\":\"overlay\",\"size\":10,\"solidity\":0.2}},\"type\":\"bar\"}],\"scattergeo\":[{\"type\":\"scattergeo\",\"marker\":{\"colorbar\":{\"outlinewidth\":0,\"ticks\":\"\"}}}],\"scatterpolar\":[{\"type\":\"scatterpolar\",\"marker\":{\"colorbar\":{\"outlinewidth\":0,\"ticks\":\"\"}}}],\"histogram\":[{\"marker\":{\"pattern\":{\"fillmode\":\"overlay\",\"size\":10,\"solidity\":0.2}},\"type\":\"histogram\"}],\"scattergl\":[{\"type\":\"scattergl\",\"marker\":{\"colorbar\":{\"outlinewidth\":0,\"ticks\":\"\"}}}],\"scatter3d\":[{\"type\":\"scatter3d\",\"line\":{\"colorbar\":{\"outlinewidth\":0,\"ticks\":\"\"}},\"marker\":{\"colorbar\":{\"outlinewidth\":0,\"ticks\":\"\"}}}],\"scattermapbox\":[{\"type\":\"scattermapbox\",\"marker\":{\"colorbar\":{\"outlinewidth\":0,\"ticks\":\"\"}}}],\"scatterternary\":[{\"type\":\"scatterternary\",\"marker\":{\"colorbar\":{\"outlinewidth\":0,\"ticks\":\"\"}}}],\"scattercarpet\":[{\"type\":\"scattercarpet\",\"marker\":{\"colorbar\":{\"outlinewidth\":0,\"ticks\":\"\"}}}],\"carpet\":[{\"aaxis\":{\"endlinecolor\":\"#2a3f5f\",\"gridcolor\":\"white\",\"linecolor\":\"white\",\"minorgridcolor\":\"white\",\"startlinecolor\":\"#2a3f5f\"},\"baxis\":{\"endlinecolor\":\"#2a3f5f\",\"gridcolor\":\"white\",\"linecolor\":\"white\",\"minorgridcolor\":\"white\",\"startlinecolor\":\"#2a3f5f\"},\"type\":\"carpet\"}],\"table\":[{\"cells\":{\"fill\":{\"color\":\"#EBF0F8\"},\"line\":{\"color\":\"white\"}},\"header\":{\"fill\":{\"color\":\"#C8D4E3\"},\"line\":{\"color\":\"white\"}},\"type\":\"table\"}],\"barpolar\":[{\"marker\":{\"line\":{\"color\":\"#E5ECF6\",\"width\":0.5},\"pattern\":{\"fillmode\":\"overlay\",\"size\":10,\"solidity\":0.2}},\"type\":\"barpolar\"}],\"pie\":[{\"automargin\":true,\"type\":\"pie\"}]},\"layout\":{\"autotypenumbers\":\"strict\",\"colorway\":[\"#636efa\",\"#EF553B\",\"#00cc96\",\"#ab63fa\",\"#FFA15A\",\"#19d3f3\",\"#FF6692\",\"#B6E880\",\"#FF97FF\",\"#FECB52\"],\"font\":{\"color\":\"#2a3f5f\"},\"hovermode\":\"closest\",\"hoverlabel\":{\"align\":\"left\"},\"paper_bgcolor\":\"white\",\"plot_bgcolor\":\"#E5ECF6\",\"polar\":{\"bgcolor\":\"#E5ECF6\",\"angularaxis\":{\"gridcolor\":\"white\",\"linecolor\":\"white\",\"ticks\":\"\"},\"radialaxis\":{\"gridcolor\":\"white\",\"linecolor\":\"white\",\"ticks\":\"\"}},\"ternary\":{\"bgcolor\":\"#E5ECF6\",\"aaxis\":{\"gridcolor\":\"white\",\"linecolor\":\"white\",\"ticks\":\"\"},\"baxis\":{\"gridcolor\":\"white\",\"linecolor\":\"white\",\"ticks\":\"\"},\"caxis\":{\"gridcolor\":\"white\",\"linecolor\":\"white\",\"ticks\":\"\"}},\"coloraxis\":{\"colorbar\":{\"outlinewidth\":0,\"ticks\":\"\"}},\"colorscale\":{\"sequential\":[[0.0,\"#0d0887\"],[0.1111111111111111,\"#46039f\"],[0.2222222222222222,\"#7201a8\"],[0.3333333333333333,\"#9c179e\"],[0.4444444444444444,\"#bd3786\"],[0.5555555555555556,\"#d8576b\"],[0.6666666666666666,\"#ed7953\"],[0.7777777777777778,\"#fb9f3a\"],[0.8888888888888888,\"#fdca26\"],[1.0,\"#f0f921\"]],\"sequentialminus\":[[0.0,\"#0d0887\"],[0.1111111111111111,\"#46039f\"],[0.2222222222222222,\"#7201a8\"],[0.3333333333333333,\"#9c179e\"],[0.4444444444444444,\"#bd3786\"],[0.5555555555555556,\"#d8576b\"],[0.6666666666666666,\"#ed7953\"],[0.7777777777777778,\"#fb9f3a\"],[0.8888888888888888,\"#fdca26\"],[1.0,\"#f0f921\"]],\"diverging\":[[0,\"#8e0152\"],[0.1,\"#c51b7d\"],[0.2,\"#de77ae\"],[0.3,\"#f1b6da\"],[0.4,\"#fde0ef\"],[0.5,\"#f7f7f7\"],[0.6,\"#e6f5d0\"],[0.7,\"#b8e186\"],[0.8,\"#7fbc41\"],[0.9,\"#4d9221\"],[1,\"#276419\"]]},\"xaxis\":{\"gridcolor\":\"white\",\"linecolor\":\"white\",\"ticks\":\"\",\"title\":{\"standoff\":15},\"zerolinecolor\":\"white\",\"automargin\":true,\"zerolinewidth\":2},\"yaxis\":{\"gridcolor\":\"white\",\"linecolor\":\"white\",\"ticks\":\"\",\"title\":{\"standoff\":15},\"zerolinecolor\":\"white\",\"automargin\":true,\"zerolinewidth\":2},\"scene\":{\"xaxis\":{\"backgroundcolor\":\"#E5ECF6\",\"gridcolor\":\"white\",\"linecolor\":\"white\",\"showbackground\":true,\"ticks\":\"\",\"zerolinecolor\":\"white\",\"gridwidth\":2},\"yaxis\":{\"backgroundcolor\":\"#E5ECF6\",\"gridcolor\":\"white\",\"linecolor\":\"white\",\"showbackground\":true,\"ticks\":\"\",\"zerolinecolor\":\"white\",\"gridwidth\":2},\"zaxis\":{\"backgroundcolor\":\"#E5ECF6\",\"gridcolor\":\"white\",\"linecolor\":\"white\",\"showbackground\":true,\"ticks\":\"\",\"zerolinecolor\":\"white\",\"gridwidth\":2}},\"shapedefaults\":{\"line\":{\"color\":\"#2a3f5f\"}},\"annotationdefaults\":{\"arrowcolor\":\"#2a3f5f\",\"arrowhead\":0,\"arrowwidth\":1},\"geo\":{\"bgcolor\":\"white\",\"landcolor\":\"#E5ECF6\",\"subunitcolor\":\"white\",\"showland\":true,\"showlakes\":true,\"lakecolor\":\"white\"},\"title\":{\"x\":0.05},\"mapbox\":{\"style\":\"light\"}}},\"xaxis\":{\"anchor\":\"y\",\"domain\":[0.0,0.2888888888888889],\"title\":{\"text\":\"Period\"}},\"yaxis\":{\"anchor\":\"x\",\"domain\":[0.0,1.0],\"title\":{\"text\":\"Total passengers\"}},\"xaxis2\":{\"anchor\":\"y2\",\"domain\":[0.35555555555555557,0.6444444444444445]},\"yaxis2\":{\"anchor\":\"x2\",\"domain\":[0.0,1.0]},\"xaxis3\":{\"anchor\":\"y3\",\"domain\":[0.7111111111111111,1.0]},\"yaxis3\":{\"anchor\":\"x3\",\"domain\":[0.0,1.0]},\"annotations\":[{\"font\":{\"size\":16},\"showarrow\":false,\"text\":\"2002-2004\",\"x\":0.14444444444444446,\"xanchor\":\"center\",\"xref\":\"paper\",\"y\":1.0,\"yanchor\":\"bottom\",\"yref\":\"paper\"},{\"font\":{\"size\":16},\"showarrow\":false,\"text\":\"2007-2011\",\"x\":0.5,\"xanchor\":\"center\",\"xref\":\"paper\",\"y\":1.0,\"yanchor\":\"bottom\",\"yref\":\"paper\"},{\"font\":{\"size\":16},\"showarrow\":false,\"text\":\"2019-2021\",\"x\":0.8555555555555556,\"xanchor\":\"center\",\"xref\":\"paper\",\"y\":1.0,\"yanchor\":\"bottom\",\"yref\":\"paper\"}],\"height\":500},                        {\"responsive\": true}                    ).then(function(){\n",
       "                            \n",
       "var gd = document.getElementById('be424b28-0cda-4315-ba4e-8683c978d8e0');\n",
       "var x = new MutationObserver(function (mutations, observer) {{\n",
       "        var display = window.getComputedStyle(gd).display;\n",
       "        if (!display || display === 'none') {{\n",
       "            console.log([gd, 'removed!']);\n",
       "            Plotly.purge(gd);\n",
       "            observer.disconnect();\n",
       "        }}\n",
       "}});\n",
       "\n",
       "// Listen for the removal of the full notebook cells\n",
       "var notebookContainer = gd.closest('#notebook-container');\n",
       "if (notebookContainer) {{\n",
       "    x.observe(notebookContainer, {childList: true});\n",
       "}}\n",
       "\n",
       "// Listen for the clearing of the current output cell\n",
       "var outputEl = gd.closest('.output');\n",
       "if (outputEl) {{\n",
       "    x.observe(outputEl, {childList: true});\n",
       "}}\n",
       "\n",
       "                        })                };                });            </script>        </div>"
      ]
     },
     "metadata": {},
     "output_type": "display_data"
    }
   ],
   "source": [
    "# Filter the data for the specified periods\n",
    "periods = ['2002-2004', '2007-2011', '2019-2021']\n",
    "start_dates = ['2002 January', '2007 January', '2019 January']\n",
    "end_dates = ['2004 January', '2011 January', '2021 January']\n",
    "\n",
    "filtered_data = [\n",
    "    flight_data[\n",
    "        (flight_data['Periods'] >= pd.to_datetime(start_date, format='%Y %B')) &\n",
    "        (flight_data['Periods'] <= pd.to_datetime(end_date, format='%Y %B'))\n",
    "    ]\n",
    "    for start_date, end_date in zip(start_dates, end_dates)\n",
    "]\n",
    "\n",
    "# Create subplots\n",
    "fig = make_subplots(rows=1, cols=len(periods), subplot_titles=periods)\n",
    "\n",
    "# Plot the data for each period\n",
    "for i, data in enumerate(filtered_data):\n",
    "    fig.add_trace(px.line(data[data['Airports'] == 'Total Dutch airports'], x='Periods', y='Commercial air traffic/Passengers/Total passengers/Total passengers (number)').data[0], row=1, col=i + 1)\n",
    "\n",
    "# Update layout\n",
    "fig.update_layout(height=500, xaxis_title='Period', yaxis_title='Total passengers')\n",
    "\n",
    "# Show the plot\n",
    "fig.show()"
   ]
  },
  {
   "cell_type": "markdown",
   "id": "74fecd37-7251-4734-9508-dde68411286a",
   "metadata": {},
   "source": [
    "Zooming in on the periods with the peaks now with total passengers per month, we can identify trends more specifically. \n",
    "\n",
    "**Small Dip in 2003:**\n",
    "* Slight decrease in the number of flights during the summer of 2003, followed by a recovery with higher passenger numbers compared to 2002.\n",
    "\n",
    "**Decline from 2007 to 2011:**\n",
    "* Significant decrease in the number of flights from February 2009 to October 2009, indicating a major impact, possibly due to the global financial crisis.\n",
    "* Drop in the number of flights in April 2010, suggesting a specific event or circumstance affecting air travel during that month.\n",
    "\n",
    "**Passenger Numbers in 2019 to 2021:**\n",
    "* High passenger numbers in the summer of 2019.\n",
    "* Nearly zero flights recorded in April 2020 due to widespread travel restrictions and lockdowns caused by the COVID-19 pandemic.\n",
    "* Partial recovery in the number of flights during the summer of 2021, followed by a subsequent decline.\n"
   ]
  },
  {
   "cell_type": "markdown",
   "id": "f465e4e4-5008-4a74-b1d5-395ad6647b91",
   "metadata": {},
   "source": [
    "### Part 3 - Data visualizing"
   ]
  },
  {
   "cell_type": "markdown",
   "id": "a553adf5-14c0-46dc-ac70-82af432e8344",
   "metadata": {},
   "source": [
    "To find out wether there is a correlation between mean wealth in the Netherlands and the number of flights of each of the three main Dutch airports a correlation matrix is plotted. "
   ]
  },
  {
   "cell_type": "code",
   "execution_count": 36,
   "id": "5edc4d02-587d-451a-81a8-720b652ff8ff",
   "metadata": {},
   "outputs": [
    {
     "data": {
      "image/png": "[encoded data removed]",
      "text/plain": [
       "<Figure size 1000x600 with 2 Axes>"
      ]
     },
     "metadata": {},
     "output_type": "display_data"
    }
   ],
   "source": [
    "#Visualisation of the correlation between the wealth and the number of flights from the 3 main airports and the total flights\n",
    "columns = ['Total flights', 'Amsterdam Schiphol Airport flights', 'Rotterdam Airport flights', 'Eindhoven Airport flights', 'Mean wealth (1 000 euros)' ]\n",
    "# Combine the 'new' DataFrame and 'wealth' DataFrame based on the same index (Year)\n",
    "combined_data = pd.concat([flight, wealth], axis=1)\n",
    "\n",
    "# Calculate the correlation matrix for the selected columns\n",
    "correlation_data = combined_data[columns]\n",
    "\n",
    "# Create a heatmap\n",
    "plt.figure(figsize=(10, 6))\n",
    "sns.heatmap(correlation_data.corr(), annot=True, cmap='coolwarm', linewidths=0.5)\n",
    "plt.title('Correlation Heatmap')\n",
    "plt.show()"
   ]
  },
  {
   "cell_type": "markdown",
   "id": "fbe05f96-c0bb-4de1-ae69-651ead3f870e",
   "metadata": {},
   "source": [
    "The results are a bit strange because the correlation between mean wealth and total flights of Amsterdam and Rotterdam are negative. But a negative correlation means that if the one variabele decreases the other variable increases. So, in this case if the wealth increases the number of flights decreases. Despite this, there is a moderate correlation between total number of flights and mean wealth and between number of flights from Amsterdam and mean wealth. The correlation between Rotterdam and wealth is very strong. Because of this the relation between Rotterdam and wealth will further be explored. "
   ]
  },
  {
   "cell_type": "code",
   "execution_count": 45,
   "id": "4c351d59-dce1-42f8-9e28-28b5f3485d78",
   "metadata": {},
   "outputs": [
    {
     "data": {
      "image/png": "[encoded data removed]",
      "text/plain": [
       "<Figure size 640x480 with 1 Axes>"
      ]
     },
     "metadata": {},
     "output_type": "display_data"
    }
   ],
   "source": [
    "#Data plot in a regression model\n",
    "sns.regplot(data=correlation_data, x=\"Mean wealth (1 000 euros)\", y=\"Rotterdam Airport flights\", robust = True)\n",
    "\n",
    "plt.gca().set_title(\"Scatter Plot with Regression Line\")\n",
    "plt.show()"
   ]
  },
  {
   "cell_type": "markdown",
   "id": "cb8cc4c4-1357-45a1-901a-4e1268247d05",
   "metadata": {},
   "source": [
    "In the regression plot above it is visible that the correlation between the flights from Rotterdam Airport and the wealth is a negative correlation. So, when the wealth increase (the people have more money to spend) the number of flights to Rotterdam airport decreases. By separately looking at the relationship between the number of flight movements from Rotterdam over time and the relationship between wealth and wealth over time, an underlying reason can be found for the behavior of this relationship."
   ]
  },
  {
   "cell_type": "code",
   "execution_count": 41,
   "id": "399f4589-652c-4d14-8f8f-31fa77a5ec7b",
   "metadata": {},
   "outputs": [
    {
     "name": "stderr",
     "output_type": "stream",
     "text": [
      "/Users/fyodor/anaconda3/envs/TIL6022/lib/python3.11/site-packages/seaborn/_oldcore.py:1498: FutureWarning:\n",
      "\n",
      "is_categorical_dtype is deprecated and will be removed in a future version. Use isinstance(dtype, CategoricalDtype) instead\n",
      "\n",
      "/Users/fyodor/anaconda3/envs/TIL6022/lib/python3.11/site-packages/seaborn/_oldcore.py:1498: FutureWarning:\n",
      "\n",
      "is_categorical_dtype is deprecated and will be removed in a future version. Use isinstance(dtype, CategoricalDtype) instead\n",
      "\n",
      "/Users/fyodor/anaconda3/envs/TIL6022/lib/python3.11/site-packages/seaborn/_oldcore.py:1119: FutureWarning:\n",
      "\n",
      "use_inf_as_na option is deprecated and will be removed in a future version. Convert inf values to NaN before operating instead.\n",
      "\n",
      "/Users/fyodor/anaconda3/envs/TIL6022/lib/python3.11/site-packages/seaborn/_oldcore.py:1119: FutureWarning:\n",
      "\n",
      "use_inf_as_na option is deprecated and will be removed in a future version. Convert inf values to NaN before operating instead.\n",
      "\n",
      "/Users/fyodor/anaconda3/envs/TIL6022/lib/python3.11/site-packages/seaborn/_oldcore.py:1498: FutureWarning:\n",
      "\n",
      "is_categorical_dtype is deprecated and will be removed in a future version. Use isinstance(dtype, CategoricalDtype) instead\n",
      "\n",
      "/Users/fyodor/anaconda3/envs/TIL6022/lib/python3.11/site-packages/seaborn/_oldcore.py:1498: FutureWarning:\n",
      "\n",
      "is_categorical_dtype is deprecated and will be removed in a future version. Use isinstance(dtype, CategoricalDtype) instead\n",
      "\n",
      "/Users/fyodor/anaconda3/envs/TIL6022/lib/python3.11/site-packages/seaborn/_oldcore.py:1498: FutureWarning:\n",
      "\n",
      "is_categorical_dtype is deprecated and will be removed in a future version. Use isinstance(dtype, CategoricalDtype) instead\n",
      "\n",
      "/Users/fyodor/anaconda3/envs/TIL6022/lib/python3.11/site-packages/seaborn/_oldcore.py:1119: FutureWarning:\n",
      "\n",
      "use_inf_as_na option is deprecated and will be removed in a future version. Convert inf values to NaN before operating instead.\n",
      "\n",
      "/Users/fyodor/anaconda3/envs/TIL6022/lib/python3.11/site-packages/seaborn/_oldcore.py:1119: FutureWarning:\n",
      "\n",
      "use_inf_as_na option is deprecated and will be removed in a future version. Convert inf values to NaN before operating instead.\n",
      "\n"
     ]
    },
    {
     "data": {
      "image/png": "[encoded data removed]",
      "text/plain": [
       "<Figure size 2000x500 with 2 Axes>"
      ]
     },
     "metadata": {},
     "output_type": "display_data"
    }
   ],
   "source": [
    "#Plot 2 lineplots next to each other\n",
    "fig, ax = plt.subplots(ncols=2, figsize=(20,5))\n",
    "sns.lineplot(x='Periods', y='Rotterdam Airport flights', data=flight, ax=ax[0])\n",
    "sns.lineplot(x='Periods', y='Mean wealth (1 000 euros)', data=wealth, ax=ax[1])\n",
    "\n",
    "ax[0].set_title('Number of flights from Rotterdam Airport over time')\n",
    "ax[1].set_title('The wealth over time')\n",
    "plt.show()"
   ]
  },
  {
   "cell_type": "code",
   "execution_count": 56,
   "id": "6674bb6c-8bfb-43d5-8c3e-acc37b5291b4",
   "metadata": {},
   "outputs": [
    {
     "name": "stderr",
     "output_type": "stream",
     "text": [
      "/Users/fyodor/anaconda3/envs/TIL6022/lib/python3.11/site-packages/seaborn/_oldcore.py:1498: FutureWarning:\n",
      "\n",
      "is_categorical_dtype is deprecated and will be removed in a future version. Use isinstance(dtype, CategoricalDtype) instead\n",
      "\n",
      "/Users/fyodor/anaconda3/envs/TIL6022/lib/python3.11/site-packages/seaborn/_oldcore.py:1498: FutureWarning:\n",
      "\n",
      "is_categorical_dtype is deprecated and will be removed in a future version. Use isinstance(dtype, CategoricalDtype) instead\n",
      "\n",
      "/Users/fyodor/anaconda3/envs/TIL6022/lib/python3.11/site-packages/seaborn/_oldcore.py:1119: FutureWarning:\n",
      "\n",
      "use_inf_as_na option is deprecated and will be removed in a future version. Convert inf values to NaN before operating instead.\n",
      "\n",
      "/Users/fyodor/anaconda3/envs/TIL6022/lib/python3.11/site-packages/seaborn/_oldcore.py:1119: FutureWarning:\n",
      "\n",
      "use_inf_as_na option is deprecated and will be removed in a future version. Convert inf values to NaN before operating instead.\n",
      "\n",
      "/Users/fyodor/anaconda3/envs/TIL6022/lib/python3.11/site-packages/seaborn/_oldcore.py:1498: FutureWarning:\n",
      "\n",
      "is_categorical_dtype is deprecated and will be removed in a future version. Use isinstance(dtype, CategoricalDtype) instead\n",
      "\n",
      "/Users/fyodor/anaconda3/envs/TIL6022/lib/python3.11/site-packages/seaborn/_oldcore.py:1498: FutureWarning:\n",
      "\n",
      "is_categorical_dtype is deprecated and will be removed in a future version. Use isinstance(dtype, CategoricalDtype) instead\n",
      "\n",
      "/Users/fyodor/anaconda3/envs/TIL6022/lib/python3.11/site-packages/seaborn/_oldcore.py:1119: FutureWarning:\n",
      "\n",
      "use_inf_as_na option is deprecated and will be removed in a future version. Convert inf values to NaN before operating instead.\n",
      "\n",
      "/Users/fyodor/anaconda3/envs/TIL6022/lib/python3.11/site-packages/seaborn/_oldcore.py:1119: FutureWarning:\n",
      "\n",
      "use_inf_as_na option is deprecated and will be removed in a future version. Convert inf values to NaN before operating instead.\n",
      "\n"
     ]
    },
    {
     "data": {
      "image/png": "[encoded data removed]",
      "text/plain": [
       "<Figure size 2000x800 with 3 Axes>"
      ]
     },
     "metadata": {},
     "output_type": "display_data"
    }
   ],
   "source": [
    "# Assuming flight and wealth are your DataFrames\n",
    "y1_color = \"red\"\n",
    "y2_color = \"green\"\n",
    "\n",
    "x1 = flight['Periods']\n",
    "y1 = flight['Rotterdam Airport flights']\n",
    "y2 = wealth['Mean wealth (1 000 euros)']\n",
    "y2_limit = y2.max() \n",
    "\n",
    "fig, ax1 = plt.subplots(figsize=(20, 8))\n",
    "ax1.set_title(\"Relation\")\n",
    "ax2 = ax1.twinx()\n",
    "ax3 = ax1.twinx()\n",
    "\n",
    "# Set y-axis limits for the second y-axis\n",
    "ax2.set(ylim=(0, y2_limit))\n",
    "\n",
    "# Plot the first dataset on the first y-axis\n",
    "g1 = sns.lineplot(data=flight, x=x1, y=y1, ax=ax1, color=y1_color, label='Rotterdam Airport flights')\n",
    "\n",
    "# Plot the second dataset on the second y-axis\n",
    "g3 = sns.lineplot(data=wealth, x=x1, y=y2, ax=ax3, color=y2_color, label='Mean wealth (1 000 euros)')\n",
    "\n",
    "# Set labels for y-axes\n",
    "ax1.set_ylabel('Rotterdam Airport flights')\n",
    "ax2.set_ylabel('Mean wealth (1 000 euros)')\n",
    "\n",
    "# Show legend\n",
    "ax1.legend(loc='upper left')\n",
    "ax3.legend(loc='upper right')\n",
    "\n",
    "plt.show()"
   ]
  },
  {
   "cell_type": "markdown",
   "id": "a32fa646-672d-4eae-8c4b-7e571c47b3fc",
   "metadata": {},
   "source": [
    "The above graphs represent the relationships between the number of flights from Rotterdam and the wealth indicators seperately over time. In the first graph, they are presented side by side, but then together in a single graph. This presentation makes it easier to compare the line plots, revealing that a decline in wealth is observable earlier in the number of flights than in the wealth trend itself. For instance, it is evident that wealth decreases from around 2008 to 2013, but a decrease in the number of flights begins as early as 2007. The same pattern holds for the COVID-19 crisis in 2019; there was a reduction in flight activity, but this crisis is not yet apparent in the wealth trend."
   ]
  },
  {
   "cell_type": "markdown",
   "id": "a43e8438-24eb-4c73-abca-159d1d8dc76f",
   "metadata": {},
   "source": [
    "A couple of side notes: \n",
    "* I doubt the correlation matrix, because I thaught if the wealth decreases the number of flights also needs to decreases\n",
    "* The last graph has a weirs right hand-side, but know idea how to fix that\n",
    "* Maybe switch to another economic factor, because I can't explain the behaviour and it only goes back to 2006 so can't tell us anything about the drop in 2003.\n",
    "\n",
    "Further research will be done on the trends on number of fligths between Schiphol and the, so-called, budget airports, as well as the comparison to GDP."
   ]
  },
  {
   "cell_type": "code",
   "execution_count": null,
   "id": "5a81d974-d104-4579-95bc-e6a6b09aa9b4",
   "metadata": {},
   "outputs": [],
   "source": []
  }
 ],
 "metadata": {
  "kernelspec": {
   "display_name": "Python 3 (ipykernel)",
   "language": "python",
   "name": "python3"
  },
  "language_info": {
   "codemirror_mode": {
    "name": "ipython",
    "version": 3
   },
   "file_extension": ".py",
   "mimetype": "text/x-python",
   "name": "python",
   "nbconvert_exporter": "python",
   "pygments_lexer": "ipython3",
   "version": "3.11.4"
  }
 },
 "nbformat": 4,
 "nbformat_minor": 5
}
